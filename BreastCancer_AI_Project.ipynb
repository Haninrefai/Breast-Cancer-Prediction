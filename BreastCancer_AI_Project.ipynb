{
 "cells": [
  {
   "cell_type": "markdown",
   "metadata": {
    "id": "N5VBUqgXFLR3"
   },
   "source": [
    "### <font color='red'>Predicting Breast Cancer</font>"
   ]
  },
  {
   "cell_type": "markdown",
   "metadata": {
    "id": "5jIwbTGYFLR7"
   },
   "source": [
    "This project classifies cancer cells into two classes benign or malignant"
   ]
  },
  {
   "cell_type": "markdown",
   "metadata": {
    "id": "RZU4GFJWFLR7"
   },
   "source": [
    "#### <font color='blue'>Data Understanding</font>"
   ]
  },
  {
   "cell_type": "code",
   "execution_count": 1,
   "metadata": {
    "executionInfo": {
     "elapsed": 7854,
     "status": "ok",
     "timestamp": 1669435092868,
     "user": {
      "displayName": "Duc Pham Viet",
      "userId": "16134707458475919078"
     },
     "user_tz": 300
    },
    "id": "eLq2pe8AFLR8"
   },
   "outputs": [],
   "source": [
    "# importing necessary libraries\n",
    "import numpy as np \n",
    "import pandas as pd\n",
    "import matplotlib.pyplot as plt\n",
    "import seaborn as sns\n",
    "import sklearn\n",
    "import random"
   ]
  },
  {
   "cell_type": "code",
   "execution_count": 2,
   "metadata": {
    "executionInfo": {
     "elapsed": 96,
     "status": "ok",
     "timestamp": 1669435092960,
     "user": {
      "displayName": "Duc Pham Viet",
      "userId": "16134707458475919078"
     },
     "user_tz": 300
    },
    "id": "OJNpo7MfFLR9"
   },
   "outputs": [],
   "source": [
    "# importing data set\n",
    "missing_values = [\"?\"]\n",
    "features = ['ID number', 'Clump Thickness', 'Uniformity of Cell Size', 'Uniformity of Cell Shape', \n",
    "                     'Marginal Adhesion', 'Single Epithelial Cell Size', 'Bare Nuclei', 'Bland Chromatin', \n",
    "                     'Normal Nucleoli', 'Mitoses', 'Class']\n",
    "df =  pd.read_csv('breast-cancer-wisconsin_data.csv', names = features, delimiter = ',', na_values = missing_values)"
   ]
  },
  {
   "cell_type": "code",
   "execution_count": 3,
   "metadata": {
    "colab": {
     "base_uri": "https://localhost:8080/",
     "height": 300
    },
    "executionInfo": {
     "elapsed": 4,
     "status": "ok",
     "timestamp": 1669435093645,
     "user": {
      "displayName": "Duc Pham Viet",
      "userId": "16134707458475919078"
     },
     "user_tz": 300
    },
    "id": "y4efM6YiFLR-",
    "outputId": "a52e7dda-ed25-4e90-e6e4-6b3425f8ef3f"
   },
   "outputs": [
    {
     "data": {
      "text/html": [
       "<div>\n",
       "<style scoped>\n",
       "    .dataframe tbody tr th:only-of-type {\n",
       "        vertical-align: middle;\n",
       "    }\n",
       "\n",
       "    .dataframe tbody tr th {\n",
       "        vertical-align: top;\n",
       "    }\n",
       "\n",
       "    .dataframe thead th {\n",
       "        text-align: right;\n",
       "    }\n",
       "</style>\n",
       "<table border=\"1\" class=\"dataframe\">\n",
       "  <thead>\n",
       "    <tr style=\"text-align: right;\">\n",
       "      <th></th>\n",
       "      <th>ID number</th>\n",
       "      <th>Clump Thickness</th>\n",
       "      <th>Uniformity of Cell Size</th>\n",
       "      <th>Uniformity of Cell Shape</th>\n",
       "      <th>Marginal Adhesion</th>\n",
       "      <th>Single Epithelial Cell Size</th>\n",
       "      <th>Bare Nuclei</th>\n",
       "      <th>Bland Chromatin</th>\n",
       "      <th>Normal Nucleoli</th>\n",
       "      <th>Mitoses</th>\n",
       "      <th>Class</th>\n",
       "    </tr>\n",
       "  </thead>\n",
       "  <tbody>\n",
       "    <tr>\n",
       "      <th>0</th>\n",
       "      <td>1000025</td>\n",
       "      <td>5</td>\n",
       "      <td>1</td>\n",
       "      <td>1</td>\n",
       "      <td>1</td>\n",
       "      <td>2</td>\n",
       "      <td>1.0</td>\n",
       "      <td>3</td>\n",
       "      <td>1</td>\n",
       "      <td>1</td>\n",
       "      <td>2</td>\n",
       "    </tr>\n",
       "    <tr>\n",
       "      <th>1</th>\n",
       "      <td>1002945</td>\n",
       "      <td>5</td>\n",
       "      <td>4</td>\n",
       "      <td>4</td>\n",
       "      <td>5</td>\n",
       "      <td>7</td>\n",
       "      <td>10.0</td>\n",
       "      <td>3</td>\n",
       "      <td>2</td>\n",
       "      <td>1</td>\n",
       "      <td>2</td>\n",
       "    </tr>\n",
       "    <tr>\n",
       "      <th>2</th>\n",
       "      <td>1015425</td>\n",
       "      <td>3</td>\n",
       "      <td>1</td>\n",
       "      <td>1</td>\n",
       "      <td>1</td>\n",
       "      <td>2</td>\n",
       "      <td>2.0</td>\n",
       "      <td>3</td>\n",
       "      <td>1</td>\n",
       "      <td>1</td>\n",
       "      <td>2</td>\n",
       "    </tr>\n",
       "    <tr>\n",
       "      <th>3</th>\n",
       "      <td>1016277</td>\n",
       "      <td>6</td>\n",
       "      <td>8</td>\n",
       "      <td>8</td>\n",
       "      <td>1</td>\n",
       "      <td>3</td>\n",
       "      <td>4.0</td>\n",
       "      <td>3</td>\n",
       "      <td>7</td>\n",
       "      <td>1</td>\n",
       "      <td>2</td>\n",
       "    </tr>\n",
       "    <tr>\n",
       "      <th>4</th>\n",
       "      <td>1017023</td>\n",
       "      <td>4</td>\n",
       "      <td>1</td>\n",
       "      <td>1</td>\n",
       "      <td>3</td>\n",
       "      <td>2</td>\n",
       "      <td>1.0</td>\n",
       "      <td>3</td>\n",
       "      <td>1</td>\n",
       "      <td>1</td>\n",
       "      <td>2</td>\n",
       "    </tr>\n",
       "    <tr>\n",
       "      <th>5</th>\n",
       "      <td>1017122</td>\n",
       "      <td>8</td>\n",
       "      <td>10</td>\n",
       "      <td>10</td>\n",
       "      <td>8</td>\n",
       "      <td>7</td>\n",
       "      <td>10.0</td>\n",
       "      <td>9</td>\n",
       "      <td>7</td>\n",
       "      <td>1</td>\n",
       "      <td>4</td>\n",
       "    </tr>\n",
       "    <tr>\n",
       "      <th>6</th>\n",
       "      <td>1018099</td>\n",
       "      <td>1</td>\n",
       "      <td>1</td>\n",
       "      <td>1</td>\n",
       "      <td>1</td>\n",
       "      <td>2</td>\n",
       "      <td>10.0</td>\n",
       "      <td>3</td>\n",
       "      <td>1</td>\n",
       "      <td>1</td>\n",
       "      <td>2</td>\n",
       "    </tr>\n",
       "    <tr>\n",
       "      <th>7</th>\n",
       "      <td>1018561</td>\n",
       "      <td>2</td>\n",
       "      <td>1</td>\n",
       "      <td>2</td>\n",
       "      <td>1</td>\n",
       "      <td>2</td>\n",
       "      <td>1.0</td>\n",
       "      <td>3</td>\n",
       "      <td>1</td>\n",
       "      <td>1</td>\n",
       "      <td>2</td>\n",
       "    </tr>\n",
       "  </tbody>\n",
       "</table>\n",
       "</div>"
      ],
      "text/plain": [
       "   ID number  Clump Thickness  Uniformity of Cell Size  \\\n",
       "0    1000025                5                        1   \n",
       "1    1002945                5                        4   \n",
       "2    1015425                3                        1   \n",
       "3    1016277                6                        8   \n",
       "4    1017023                4                        1   \n",
       "5    1017122                8                       10   \n",
       "6    1018099                1                        1   \n",
       "7    1018561                2                        1   \n",
       "\n",
       "   Uniformity of Cell Shape  Marginal Adhesion  Single Epithelial Cell Size  \\\n",
       "0                         1                  1                            2   \n",
       "1                         4                  5                            7   \n",
       "2                         1                  1                            2   \n",
       "3                         8                  1                            3   \n",
       "4                         1                  3                            2   \n",
       "5                        10                  8                            7   \n",
       "6                         1                  1                            2   \n",
       "7                         2                  1                            2   \n",
       "\n",
       "   Bare Nuclei  Bland Chromatin  Normal Nucleoli  Mitoses  Class  \n",
       "0          1.0                3                1        1      2  \n",
       "1         10.0                3                2        1      2  \n",
       "2          2.0                3                1        1      2  \n",
       "3          4.0                3                7        1      2  \n",
       "4          1.0                3                1        1      2  \n",
       "5         10.0                9                7        1      4  \n",
       "6         10.0                3                1        1      2  \n",
       "7          1.0                3                1        1      2  "
      ]
     },
     "execution_count": 3,
     "metadata": {},
     "output_type": "execute_result"
    }
   ],
   "source": [
    "# checking data\n",
    "df.head(8)"
   ]
  },
  {
   "cell_type": "code",
   "execution_count": 4,
   "metadata": {
    "colab": {
     "base_uri": "https://localhost:8080/"
    },
    "executionInfo": {
     "elapsed": 79,
     "status": "ok",
     "timestamp": 1669435116494,
     "user": {
      "displayName": "Duc Pham Viet",
      "userId": "16134707458475919078"
     },
     "user_tz": 300
    },
    "id": "dJXaipUFFLR_",
    "outputId": "5f969c13-79b8-46ba-908e-7a7cea6abbe7"
   },
   "outputs": [
    {
     "data": {
      "text/plain": [
       "(699, 11)"
      ]
     },
     "execution_count": 4,
     "metadata": {},
     "output_type": "execute_result"
    }
   ],
   "source": [
    "# rows, columns\n",
    "df.shape"
   ]
  },
  {
   "cell_type": "code",
   "execution_count": 5,
   "metadata": {
    "colab": {
     "base_uri": "https://localhost:8080/"
    },
    "executionInfo": {
     "elapsed": 99,
     "status": "ok",
     "timestamp": 1669435117636,
     "user": {
      "displayName": "Duc Pham Viet",
      "userId": "16134707458475919078"
     },
     "user_tz": 300
    },
    "id": "V-my_89rFLSA",
    "outputId": "49dcf96e-8509-41b9-ced2-f8244749a276",
    "scrolled": true
   },
   "outputs": [
    {
     "data": {
      "text/plain": [
       "ID number                       0\n",
       "Clump Thickness                 0\n",
       "Uniformity of Cell Size         0\n",
       "Uniformity of Cell Shape        0\n",
       "Marginal Adhesion               0\n",
       "Single Epithelial Cell Size     0\n",
       "Bare Nuclei                    16\n",
       "Bland Chromatin                 0\n",
       "Normal Nucleoli                 0\n",
       "Mitoses                         0\n",
       "Class                           0\n",
       "dtype: int64"
      ]
     },
     "execution_count": 5,
     "metadata": {},
     "output_type": "execute_result"
    }
   ],
   "source": [
    "# 16 null values\n",
    "pd.isnull(df).sum()"
   ]
  },
  {
   "cell_type": "code",
   "execution_count": 6,
   "metadata": {
    "colab": {
     "base_uri": "https://localhost:8080/"
    },
    "executionInfo": {
     "elapsed": 3,
     "status": "ok",
     "timestamp": 1669435118652,
     "user": {
      "displayName": "Duc Pham Viet",
      "userId": "16134707458475919078"
     },
     "user_tz": 300
    },
    "id": "c8bMP3b-FLSA",
    "outputId": "1f0d3edc-1ca0-4063-a8ea-ebedf88bcfa2"
   },
   "outputs": [
    {
     "data": {
      "text/plain": [
       "ID number                      [1000025, 1002945, 1015425, 1016277, 1017023, ...\n",
       "Clump Thickness                                  [5, 3, 6, 4, 8, 1, 2, 7, 10, 9]\n",
       "Uniformity of Cell Size                          [1, 4, 8, 10, 2, 3, 7, 5, 6, 9]\n",
       "Uniformity of Cell Shape                         [1, 4, 8, 10, 2, 3, 5, 6, 7, 9]\n",
       "Marginal Adhesion                                [1, 5, 3, 8, 10, 4, 6, 2, 9, 7]\n",
       "Single Epithelial Cell Size                      [2, 7, 3, 1, 6, 4, 5, 8, 10, 9]\n",
       "Bare Nuclei                    [1.0, 10.0, 2.0, 4.0, 3.0, 9.0, 7.0, nan, 5.0,...\n",
       "Bland Chromatin                                  [3, 9, 1, 2, 4, 5, 7, 8, 6, 10]\n",
       "Normal Nucleoli                                  [1, 2, 7, 4, 5, 3, 10, 6, 9, 8]\n",
       "Mitoses                                             [1, 5, 4, 2, 3, 7, 10, 8, 6]\n",
       "Class                                                                     [2, 4]\n",
       "dtype: object"
      ]
     },
     "execution_count": 6,
     "metadata": {},
     "output_type": "execute_result"
    }
   ],
   "source": [
    "# unique values of each descriptive feature\n",
    "df.apply(lambda col: col.unique())"
   ]
  },
  {
   "cell_type": "code",
   "execution_count": 7,
   "metadata": {
    "colab": {
     "base_uri": "https://localhost:8080/"
    },
    "executionInfo": {
     "elapsed": 126,
     "status": "ok",
     "timestamp": 1669435128373,
     "user": {
      "displayName": "Duc Pham Viet",
      "userId": "16134707458475919078"
     },
     "user_tz": 300
    },
    "id": "No2t2H57FLSB",
    "outputId": "3494f260-e8e4-4df7-def6-0e9e19215a4f"
   },
   "outputs": [
    {
     "name": "stdout",
     "output_type": "stream",
     "text": [
      "<class 'pandas.core.frame.DataFrame'>\n",
      "RangeIndex: 699 entries, 0 to 698\n",
      "Data columns (total 11 columns):\n",
      " #   Column                       Non-Null Count  Dtype  \n",
      "---  ------                       --------------  -----  \n",
      " 0   ID number                    699 non-null    int64  \n",
      " 1   Clump Thickness              699 non-null    int64  \n",
      " 2   Uniformity of Cell Size      699 non-null    int64  \n",
      " 3   Uniformity of Cell Shape     699 non-null    int64  \n",
      " 4   Marginal Adhesion            699 non-null    int64  \n",
      " 5   Single Epithelial Cell Size  699 non-null    int64  \n",
      " 6   Bare Nuclei                  683 non-null    float64\n",
      " 7   Bland Chromatin              699 non-null    int64  \n",
      " 8   Normal Nucleoli              699 non-null    int64  \n",
      " 9   Mitoses                      699 non-null    int64  \n",
      " 10  Class                        699 non-null    int64  \n",
      "dtypes: float64(1), int64(10)\n",
      "memory usage: 60.2 KB\n"
     ]
    }
   ],
   "source": [
    "# data types and number of missing values\n",
    "df.info()"
   ]
  },
  {
   "cell_type": "code",
   "execution_count": 8,
   "metadata": {},
   "outputs": [],
   "source": [
    "# removing duplicates\n",
    "df.drop_duplicates(inplace = True)"
   ]
  },
  {
   "cell_type": "code",
   "execution_count": 9,
   "metadata": {},
   "outputs": [
    {
     "data": {
      "text/plain": [
       "(691, 11)"
      ]
     },
     "execution_count": 9,
     "metadata": {},
     "output_type": "execute_result"
    }
   ],
   "source": [
    "# shape after removing duplicates\n",
    "df.shape"
   ]
  },
  {
   "cell_type": "markdown",
   "metadata": {
    "id": "Vw9oTVOrFLSC"
   },
   "source": [
    "#### <font color='blue'>Data Understanding</font>"
   ]
  },
  {
   "cell_type": "code",
   "execution_count": 10,
   "metadata": {
    "colab": {
     "base_uri": "https://localhost:8080/",
     "height": 425
    },
    "executionInfo": {
     "elapsed": 138,
     "status": "ok",
     "timestamp": 1669435132735,
     "user": {
      "displayName": "Duc Pham Viet",
      "userId": "16134707458475919078"
     },
     "user_tz": 300
    },
    "id": "e0WjpvojFLSC",
    "outputId": "d9351a48-fa96-4a6b-8749-db9bd0348db7",
    "scrolled": false
   },
   "outputs": [
    {
     "data": {
      "text/html": [
       "<div>\n",
       "<style scoped>\n",
       "    .dataframe tbody tr th:only-of-type {\n",
       "        vertical-align: middle;\n",
       "    }\n",
       "\n",
       "    .dataframe tbody tr th {\n",
       "        vertical-align: top;\n",
       "    }\n",
       "\n",
       "    .dataframe thead th {\n",
       "        text-align: right;\n",
       "    }\n",
       "</style>\n",
       "<table border=\"1\" class=\"dataframe\">\n",
       "  <thead>\n",
       "    <tr style=\"text-align: right;\">\n",
       "      <th></th>\n",
       "      <th>Count</th>\n",
       "      <th>% Miss</th>\n",
       "      <th>Card.</th>\n",
       "      <th>Mode</th>\n",
       "      <th>Mode Freq.</th>\n",
       "      <th>Mode %</th>\n",
       "      <th>2nd Mode</th>\n",
       "      <th>2nd Mode Freq.</th>\n",
       "      <th>2nd Mode %</th>\n",
       "    </tr>\n",
       "    <tr>\n",
       "      <th>Feature_Name</th>\n",
       "      <th></th>\n",
       "      <th></th>\n",
       "      <th></th>\n",
       "      <th></th>\n",
       "      <th></th>\n",
       "      <th></th>\n",
       "      <th></th>\n",
       "      <th></th>\n",
       "      <th></th>\n",
       "    </tr>\n",
       "  </thead>\n",
       "  <tbody>\n",
       "    <tr>\n",
       "      <th>ID number</th>\n",
       "      <td>691</td>\n",
       "      <td>0.0</td>\n",
       "      <td>645</td>\n",
       "      <td>1182404.0</td>\n",
       "      <td>6</td>\n",
       "      <td>0.9</td>\n",
       "      <td>1276091.0</td>\n",
       "      <td>5</td>\n",
       "      <td>0.7</td>\n",
       "    </tr>\n",
       "    <tr>\n",
       "      <th>Clump Thickness</th>\n",
       "      <td>691</td>\n",
       "      <td>0.0</td>\n",
       "      <td>10</td>\n",
       "      <td>1.0</td>\n",
       "      <td>142</td>\n",
       "      <td>20.5</td>\n",
       "      <td>5.0</td>\n",
       "      <td>129</td>\n",
       "      <td>18.7</td>\n",
       "    </tr>\n",
       "    <tr>\n",
       "      <th>Uniformity of Cell Size</th>\n",
       "      <td>691</td>\n",
       "      <td>0.0</td>\n",
       "      <td>10</td>\n",
       "      <td>1.0</td>\n",
       "      <td>379</td>\n",
       "      <td>54.8</td>\n",
       "      <td>10.0</td>\n",
       "      <td>65</td>\n",
       "      <td>9.4</td>\n",
       "    </tr>\n",
       "    <tr>\n",
       "      <th>Uniformity of Cell Shape</th>\n",
       "      <td>691</td>\n",
       "      <td>0.0</td>\n",
       "      <td>10</td>\n",
       "      <td>1.0</td>\n",
       "      <td>348</td>\n",
       "      <td>50.4</td>\n",
       "      <td>2.0</td>\n",
       "      <td>59</td>\n",
       "      <td>8.5</td>\n",
       "    </tr>\n",
       "    <tr>\n",
       "      <th>Marginal Adhesion</th>\n",
       "      <td>691</td>\n",
       "      <td>0.0</td>\n",
       "      <td>10</td>\n",
       "      <td>1.0</td>\n",
       "      <td>401</td>\n",
       "      <td>58.0</td>\n",
       "      <td>3.0</td>\n",
       "      <td>58</td>\n",
       "      <td>8.4</td>\n",
       "    </tr>\n",
       "    <tr>\n",
       "      <th>Single Epithelial Cell Size</th>\n",
       "      <td>691</td>\n",
       "      <td>0.0</td>\n",
       "      <td>10</td>\n",
       "      <td>2.0</td>\n",
       "      <td>383</td>\n",
       "      <td>55.4</td>\n",
       "      <td>3.0</td>\n",
       "      <td>71</td>\n",
       "      <td>10.3</td>\n",
       "    </tr>\n",
       "    <tr>\n",
       "      <th>Bare Nuclei</th>\n",
       "      <td>675</td>\n",
       "      <td>2.3</td>\n",
       "      <td>10</td>\n",
       "      <td>1.0</td>\n",
       "      <td>397</td>\n",
       "      <td>58.8</td>\n",
       "      <td>10.0</td>\n",
       "      <td>130</td>\n",
       "      <td>19.3</td>\n",
       "    </tr>\n",
       "    <tr>\n",
       "      <th>Bland Chromatin</th>\n",
       "      <td>691</td>\n",
       "      <td>0.0</td>\n",
       "      <td>10</td>\n",
       "      <td>2.0</td>\n",
       "      <td>165</td>\n",
       "      <td>23.9</td>\n",
       "      <td>3.0</td>\n",
       "      <td>161</td>\n",
       "      <td>23.3</td>\n",
       "    </tr>\n",
       "    <tr>\n",
       "      <th>Normal Nucleoli</th>\n",
       "      <td>691</td>\n",
       "      <td>0.0</td>\n",
       "      <td>10</td>\n",
       "      <td>1.0</td>\n",
       "      <td>437</td>\n",
       "      <td>63.2</td>\n",
       "      <td>10.0</td>\n",
       "      <td>61</td>\n",
       "      <td>8.8</td>\n",
       "    </tr>\n",
       "    <tr>\n",
       "      <th>Mitoses</th>\n",
       "      <td>691</td>\n",
       "      <td>0.0</td>\n",
       "      <td>9</td>\n",
       "      <td>1.0</td>\n",
       "      <td>572</td>\n",
       "      <td>82.8</td>\n",
       "      <td>2.0</td>\n",
       "      <td>35</td>\n",
       "      <td>5.1</td>\n",
       "    </tr>\n",
       "    <tr>\n",
       "      <th>Class</th>\n",
       "      <td>691</td>\n",
       "      <td>0.0</td>\n",
       "      <td>2</td>\n",
       "      <td>2.0</td>\n",
       "      <td>453</td>\n",
       "      <td>65.6</td>\n",
       "      <td>4.0</td>\n",
       "      <td>238</td>\n",
       "      <td>34.4</td>\n",
       "    </tr>\n",
       "  </tbody>\n",
       "</table>\n",
       "</div>"
      ],
      "text/plain": [
       "                             Count  % Miss  Card.       Mode  Mode Freq.  \\\n",
       "Feature_Name                                                               \n",
       "ID number                      691     0.0    645  1182404.0           6   \n",
       "Clump Thickness                691     0.0     10        1.0         142   \n",
       "Uniformity of Cell Size        691     0.0     10        1.0         379   \n",
       "Uniformity of Cell Shape       691     0.0     10        1.0         348   \n",
       "Marginal Adhesion              691     0.0     10        1.0         401   \n",
       "Single Epithelial Cell Size    691     0.0     10        2.0         383   \n",
       "Bare Nuclei                    675     2.3     10        1.0         397   \n",
       "Bland Chromatin                691     0.0     10        2.0         165   \n",
       "Normal Nucleoli                691     0.0     10        1.0         437   \n",
       "Mitoses                        691     0.0      9        1.0         572   \n",
       "Class                          691     0.0      2        2.0         453   \n",
       "\n",
       "                             Mode %   2nd Mode  2nd Mode Freq.  2nd Mode %  \n",
       "Feature_Name                                                                \n",
       "ID number                       0.9  1276091.0               5         0.7  \n",
       "Clump Thickness                20.5        5.0             129        18.7  \n",
       "Uniformity of Cell Size        54.8       10.0              65         9.4  \n",
       "Uniformity of Cell Shape       50.4        2.0              59         8.5  \n",
       "Marginal Adhesion              58.0        3.0              58         8.4  \n",
       "Single Epithelial Cell Size    55.4        3.0              71        10.3  \n",
       "Bare Nuclei                    58.8       10.0             130        19.3  \n",
       "Bland Chromatin                23.9        3.0             161        23.3  \n",
       "Normal Nucleoli                63.2       10.0              61         8.8  \n",
       "Mitoses                        82.8        2.0              35         5.1  \n",
       "Class                          65.6        4.0             238        34.4  "
      ]
     },
     "execution_count": 10,
     "metadata": {},
     "output_type": "execute_result"
    }
   ],
   "source": [
    "# Data Quality Report for Categorical Variables\n",
    "cat_header = ['Count', '% Miss', 'Card.', 'Mode', 'Mode Freq.', 'Mode %', '2nd Mode', '2nd Mode Freq.', '2nd Mode %']\n",
    "\n",
    "cat_df = pd.DataFrame(index=features, columns=cat_header)\n",
    "cat_df.index.name = 'Feature_Name'\n",
    "columns = df[features]\n",
    "\n",
    "count = columns.count()\n",
    "cat_df[cat_header[0]] = columns.count()\n",
    "\n",
    "missing = columns.isna()\n",
    "cat_df[cat_header[1]] = round((missing.sum() / len(columns)) * 100, 1)\n",
    "\n",
    "cat_df[cat_header[2]] = columns.nunique()\n",
    "\n",
    "amount = len(features)\n",
    "mode_f = [''] * amount\n",
    "modes = [''] * amount\n",
    "modes_2 = [''] * amount\n",
    "mode_p = [''] * amount\n",
    "mode_f2 = [''] * amount\n",
    "mode_p2 = [''] * amount\n",
    "    \n",
    "for col in columns:\n",
    "    values = columns[col].value_counts()\n",
    "    index = features.index(col)\n",
    "    \n",
    "    mode = values.index[0]\n",
    "    modes[index] = mode\n",
    "\n",
    "    mode_count = values.loc[mode]\n",
    "    mode_f[index] = mode_count\n",
    "    \n",
    "    mode_per = (mode_count/(count[index])) * 100\n",
    "    mode_p[index] = round(mode_per, 1)\n",
    "    \n",
    "    mode_2 = values.index[1]\n",
    "    modes_2[index] = mode_2\n",
    "    \n",
    "    mode_count2 = values.loc[mode_2]\n",
    "    mode_f2[index] = mode_count2\n",
    "    \n",
    "    mode_per2 = (mode_count2/(count[index]))*100\n",
    "    mode_p2[index] = round(mode_per2, 1)\n",
    "    \n",
    "cat_df[cat_header[3]] = modes\n",
    "cat_df[cat_header[4]] = mode_f\n",
    "cat_df[cat_header[5]] = mode_p\n",
    "cat_df[cat_header[6]] = modes_2\n",
    "cat_df[cat_header[7]] = mode_f2\n",
    "cat_df[cat_header[8]] = mode_p2\n",
    "\n",
    "cat_df"
   ]
  },
  {
   "cell_type": "markdown",
   "metadata": {
    "id": "teZe6ux4FLSD"
   },
   "source": [
    "Handling Missing Values"
   ]
  },
  {
   "cell_type": "code",
   "execution_count": 11,
   "metadata": {
    "colab": {
     "base_uri": "https://localhost:8080/"
    },
    "executionInfo": {
     "elapsed": 3,
     "status": "ok",
     "timestamp": 1669435140378,
     "user": {
      "displayName": "Duc Pham Viet",
      "userId": "16134707458475919078"
     },
     "user_tz": 300
    },
    "id": "NAQRfarXFLSE",
    "outputId": "def6cf5a-920d-4289-f679-6b1aa5202139",
    "scrolled": true
   },
   "outputs": [
    {
     "data": {
      "text/plain": [
       "ID number                      1057013.0\n",
       "Clump Thickness                      8.0\n",
       "Uniformity of Cell Size              4.0\n",
       "Uniformity of Cell Shape             5.0\n",
       "Marginal Adhesion                    1.0\n",
       "Single Epithelial Cell Size          2.0\n",
       "Bare Nuclei                          NaN\n",
       "Bland Chromatin                      7.0\n",
       "Normal Nucleoli                      3.0\n",
       "Mitoses                              1.0\n",
       "Class                                4.0\n",
       "Name: 23, dtype: float64"
      ]
     },
     "execution_count": 11,
     "metadata": {},
     "output_type": "execute_result"
    }
   ],
   "source": [
    "# showing the first row of of data containing missing data\n",
    "df.iloc[23]"
   ]
  },
  {
   "cell_type": "code",
   "execution_count": 12,
   "metadata": {
    "executionInfo": {
     "elapsed": 99,
     "status": "ok",
     "timestamp": 1669435152233,
     "user": {
      "displayName": "Duc Pham Viet",
      "userId": "16134707458475919078"
     },
     "user_tz": 300
    },
    "id": "M01Y-vs-FLSE"
   },
   "outputs": [],
   "source": [
    "# filling missing values with mode value (1)\n",
    "df1 = df.fillna(1)"
   ]
  },
  {
   "cell_type": "code",
   "execution_count": 13,
   "metadata": {
    "colab": {
     "base_uri": "https://localhost:8080/"
    },
    "executionInfo": {
     "elapsed": 106,
     "status": "ok",
     "timestamp": 1669435155643,
     "user": {
      "displayName": "Duc Pham Viet",
      "userId": "16134707458475919078"
     },
     "user_tz": 300
    },
    "id": "K88b1J_gFLSE",
    "outputId": "6f4de99a-0dc9-4be7-86ee-53417aa857ef"
   },
   "outputs": [
    {
     "data": {
      "text/plain": [
       "ID number                      1057013.0\n",
       "Clump Thickness                      8.0\n",
       "Uniformity of Cell Size              4.0\n",
       "Uniformity of Cell Shape             5.0\n",
       "Marginal Adhesion                    1.0\n",
       "Single Epithelial Cell Size          2.0\n",
       "Bare Nuclei                          1.0\n",
       "Bland Chromatin                      7.0\n",
       "Normal Nucleoli                      3.0\n",
       "Mitoses                              1.0\n",
       "Class                                4.0\n",
       "Name: 23, dtype: float64"
      ]
     },
     "execution_count": 13,
     "metadata": {},
     "output_type": "execute_result"
    }
   ],
   "source": [
    "# ensuring missing value is filled with 0\n",
    "df1.iloc[23]"
   ]
  },
  {
   "cell_type": "code",
   "execution_count": 14,
   "metadata": {
    "executionInfo": {
     "elapsed": 91,
     "status": "ok",
     "timestamp": 1669435159770,
     "user": {
      "displayName": "Duc Pham Viet",
      "userId": "16134707458475919078"
     },
     "user_tz": 300
    },
    "id": "n4SSjSTQFLSF"
   },
   "outputs": [],
   "source": [
    "# # casting 'Bare Nuclei'into integer since it's a categorical feature\n",
    "# df1['Bare Nuclei'] = df1['Bare Nuclei'].astype(int)"
   ]
  },
  {
   "cell_type": "code",
   "execution_count": 15,
   "metadata": {
    "colab": {
     "base_uri": "https://localhost:8080/",
     "height": 363
    },
    "executionInfo": {
     "elapsed": 5,
     "status": "ok",
     "timestamp": 1669435166360,
     "user": {
      "displayName": "Duc Pham Viet",
      "userId": "16134707458475919078"
     },
     "user_tz": 300
    },
    "id": "i4crxlTsFLSF",
    "outputId": "dbaeb8a1-09a4-408a-a405-1d06197ff567"
   },
   "outputs": [
    {
     "data": {
      "text/html": [
       "<div>\n",
       "<style scoped>\n",
       "    .dataframe tbody tr th:only-of-type {\n",
       "        vertical-align: middle;\n",
       "    }\n",
       "\n",
       "    .dataframe tbody tr th {\n",
       "        vertical-align: top;\n",
       "    }\n",
       "\n",
       "    .dataframe thead th {\n",
       "        text-align: right;\n",
       "    }\n",
       "</style>\n",
       "<table border=\"1\" class=\"dataframe\">\n",
       "  <thead>\n",
       "    <tr style=\"text-align: right;\">\n",
       "      <th></th>\n",
       "      <th>ID number</th>\n",
       "      <th>Clump Thickness</th>\n",
       "      <th>Uniformity of Cell Size</th>\n",
       "      <th>Uniformity of Cell Shape</th>\n",
       "      <th>Marginal Adhesion</th>\n",
       "      <th>Single Epithelial Cell Size</th>\n",
       "      <th>Bare Nuclei</th>\n",
       "      <th>Bland Chromatin</th>\n",
       "      <th>Normal Nucleoli</th>\n",
       "      <th>Mitoses</th>\n",
       "      <th>Class</th>\n",
       "    </tr>\n",
       "  </thead>\n",
       "  <tbody>\n",
       "    <tr>\n",
       "      <th>0</th>\n",
       "      <td>1000025</td>\n",
       "      <td>5</td>\n",
       "      <td>1</td>\n",
       "      <td>1</td>\n",
       "      <td>1</td>\n",
       "      <td>2</td>\n",
       "      <td>1.0</td>\n",
       "      <td>3</td>\n",
       "      <td>1</td>\n",
       "      <td>1</td>\n",
       "      <td>2</td>\n",
       "    </tr>\n",
       "    <tr>\n",
       "      <th>1</th>\n",
       "      <td>1002945</td>\n",
       "      <td>5</td>\n",
       "      <td>4</td>\n",
       "      <td>4</td>\n",
       "      <td>5</td>\n",
       "      <td>7</td>\n",
       "      <td>10.0</td>\n",
       "      <td>3</td>\n",
       "      <td>2</td>\n",
       "      <td>1</td>\n",
       "      <td>2</td>\n",
       "    </tr>\n",
       "    <tr>\n",
       "      <th>2</th>\n",
       "      <td>1015425</td>\n",
       "      <td>3</td>\n",
       "      <td>1</td>\n",
       "      <td>1</td>\n",
       "      <td>1</td>\n",
       "      <td>2</td>\n",
       "      <td>2.0</td>\n",
       "      <td>3</td>\n",
       "      <td>1</td>\n",
       "      <td>1</td>\n",
       "      <td>2</td>\n",
       "    </tr>\n",
       "    <tr>\n",
       "      <th>3</th>\n",
       "      <td>1016277</td>\n",
       "      <td>6</td>\n",
       "      <td>8</td>\n",
       "      <td>8</td>\n",
       "      <td>1</td>\n",
       "      <td>3</td>\n",
       "      <td>4.0</td>\n",
       "      <td>3</td>\n",
       "      <td>7</td>\n",
       "      <td>1</td>\n",
       "      <td>2</td>\n",
       "    </tr>\n",
       "    <tr>\n",
       "      <th>4</th>\n",
       "      <td>1017023</td>\n",
       "      <td>4</td>\n",
       "      <td>1</td>\n",
       "      <td>1</td>\n",
       "      <td>3</td>\n",
       "      <td>2</td>\n",
       "      <td>1.0</td>\n",
       "      <td>3</td>\n",
       "      <td>1</td>\n",
       "      <td>1</td>\n",
       "      <td>2</td>\n",
       "    </tr>\n",
       "    <tr>\n",
       "      <th>5</th>\n",
       "      <td>1017122</td>\n",
       "      <td>8</td>\n",
       "      <td>10</td>\n",
       "      <td>10</td>\n",
       "      <td>8</td>\n",
       "      <td>7</td>\n",
       "      <td>10.0</td>\n",
       "      <td>9</td>\n",
       "      <td>7</td>\n",
       "      <td>1</td>\n",
       "      <td>4</td>\n",
       "    </tr>\n",
       "    <tr>\n",
       "      <th>6</th>\n",
       "      <td>1018099</td>\n",
       "      <td>1</td>\n",
       "      <td>1</td>\n",
       "      <td>1</td>\n",
       "      <td>1</td>\n",
       "      <td>2</td>\n",
       "      <td>10.0</td>\n",
       "      <td>3</td>\n",
       "      <td>1</td>\n",
       "      <td>1</td>\n",
       "      <td>2</td>\n",
       "    </tr>\n",
       "    <tr>\n",
       "      <th>7</th>\n",
       "      <td>1018561</td>\n",
       "      <td>2</td>\n",
       "      <td>1</td>\n",
       "      <td>2</td>\n",
       "      <td>1</td>\n",
       "      <td>2</td>\n",
       "      <td>1.0</td>\n",
       "      <td>3</td>\n",
       "      <td>1</td>\n",
       "      <td>1</td>\n",
       "      <td>2</td>\n",
       "    </tr>\n",
       "    <tr>\n",
       "      <th>8</th>\n",
       "      <td>1033078</td>\n",
       "      <td>2</td>\n",
       "      <td>1</td>\n",
       "      <td>1</td>\n",
       "      <td>1</td>\n",
       "      <td>2</td>\n",
       "      <td>1.0</td>\n",
       "      <td>1</td>\n",
       "      <td>1</td>\n",
       "      <td>5</td>\n",
       "      <td>2</td>\n",
       "    </tr>\n",
       "    <tr>\n",
       "      <th>9</th>\n",
       "      <td>1033078</td>\n",
       "      <td>4</td>\n",
       "      <td>2</td>\n",
       "      <td>1</td>\n",
       "      <td>1</td>\n",
       "      <td>2</td>\n",
       "      <td>1.0</td>\n",
       "      <td>2</td>\n",
       "      <td>1</td>\n",
       "      <td>1</td>\n",
       "      <td>2</td>\n",
       "    </tr>\n",
       "  </tbody>\n",
       "</table>\n",
       "</div>"
      ],
      "text/plain": [
       "   ID number  Clump Thickness  Uniformity of Cell Size  \\\n",
       "0    1000025                5                        1   \n",
       "1    1002945                5                        4   \n",
       "2    1015425                3                        1   \n",
       "3    1016277                6                        8   \n",
       "4    1017023                4                        1   \n",
       "5    1017122                8                       10   \n",
       "6    1018099                1                        1   \n",
       "7    1018561                2                        1   \n",
       "8    1033078                2                        1   \n",
       "9    1033078                4                        2   \n",
       "\n",
       "   Uniformity of Cell Shape  Marginal Adhesion  Single Epithelial Cell Size  \\\n",
       "0                         1                  1                            2   \n",
       "1                         4                  5                            7   \n",
       "2                         1                  1                            2   \n",
       "3                         8                  1                            3   \n",
       "4                         1                  3                            2   \n",
       "5                        10                  8                            7   \n",
       "6                         1                  1                            2   \n",
       "7                         2                  1                            2   \n",
       "8                         1                  1                            2   \n",
       "9                         1                  1                            2   \n",
       "\n",
       "   Bare Nuclei  Bland Chromatin  Normal Nucleoli  Mitoses  Class  \n",
       "0          1.0                3                1        1      2  \n",
       "1         10.0                3                2        1      2  \n",
       "2          2.0                3                1        1      2  \n",
       "3          4.0                3                7        1      2  \n",
       "4          1.0                3                1        1      2  \n",
       "5         10.0                9                7        1      4  \n",
       "6         10.0                3                1        1      2  \n",
       "7          1.0                3                1        1      2  \n",
       "8          1.0                1                1        5      2  \n",
       "9          1.0                2                1        1      2  "
      ]
     },
     "execution_count": 15,
     "metadata": {},
     "output_type": "execute_result"
    }
   ],
   "source": [
    "df1.head(10)"
   ]
  },
  {
   "cell_type": "markdown",
   "metadata": {
    "id": "A7iJOMQrFLSF"
   },
   "source": [
    "#### <font color='blue'>Data Visualization</font>"
   ]
  },
  {
   "cell_type": "code",
   "execution_count": 16,
   "metadata": {
    "colab": {
     "base_uri": "https://localhost:8080/",
     "height": 1000
    },
    "executionInfo": {
     "elapsed": 2036,
     "status": "ok",
     "timestamp": 1669435174413,
     "user": {
      "displayName": "Duc Pham Viet",
      "userId": "16134707458475919078"
     },
     "user_tz": 300
    },
    "id": "rS5LflPlFLSG",
    "outputId": "0b8ed313-bb23-46e9-d730-31084d7bed8a",
    "scrolled": false
   },
   "outputs": [
    {
     "data": {
      "image/png": "[encoded data removed]",
      "text/plain": [
       "<Figure size 432x288 with 1 Axes>"
      ]
     },
     "metadata": {
      "needs_background": "light"
     },
     "output_type": "display_data"
    },
    {
     "data": {
      "image/png": "[encoded data removed]",
      "text/plain": [
       "<Figure size 432x288 with 1 Axes>"
      ]
     },
     "metadata": {
      "needs_background": "light"
     },
     "output_type": "display_data"
    },
    {
     "data": {
      "image/png": "[encoded data removed]",
      "text/plain": [
       "<Figure size 432x288 with 1 Axes>"
      ]
     },
     "metadata": {
      "needs_background": "light"
     },
     "output_type": "display_data"
    },
    {
     "data": {
      "image/png": "[encoded data removed]",
      "text/plain": [
       "<Figure size 432x288 with 1 Axes>"
      ]
     },
     "metadata": {
      "needs_background": "light"
     },
     "output_type": "display_data"
    },
    {
     "data": {
      "image/png": "[encoded data removed]",
      "text/plain": [
       "<Figure size 432x288 with 1 Axes>"
      ]
     },
     "metadata": {
      "needs_background": "light"
     },
     "output_type": "display_data"
    },
    {
     "data": {
      "image/png": "[encoded data removed]",
      "text/plain": [
       "<Figure size 432x288 with 1 Axes>"
      ]
     },
     "metadata": {
      "needs_background": "light"
     },
     "output_type": "display_data"
    },
    {
     "data": {
      "image/png": "[encoded data removed]",
      "text/plain": [
       "<Figure size 432x288 with 1 Axes>"
      ]
     },
     "metadata": {
      "needs_background": "light"
     },
     "output_type": "display_data"
    },
    {
     "data": {
      "image/png": "[encoded data removed]",
      "text/plain": [
       "<Figure size 432x288 with 1 Axes>"
      ]
     },
     "metadata": {
      "needs_background": "light"
     },
     "output_type": "display_data"
    },
    {
     "data": {
      "image/png": "[encoded data removed]",
      "text/plain": [
       "<Figure size 432x288 with 1 Axes>"
      ]
     },
     "metadata": {
      "needs_background": "light"
     },
     "output_type": "display_data"
    }
   ],
   "source": [
    "# box plot of categorical values\n",
    "categorical_ft = ['Clump Thickness', 'Uniformity of Cell Size', 'Uniformity of Cell Shape', \n",
    "                     'Marginal Adhesion', 'Single Epithelial Cell Size', 'Bare Nuclei', 'Bland Chromatin', \n",
    "                     'Normal Nucleoli', 'Mitoses']\n",
    "\n",
    "for i in categorical_ft:\n",
    "    f = df1[i].value_counts()\n",
    "    sns.barplot(x = f.values, y = f.index, orient='h', order= f.index)\n",
    "    plt.ylabel(i)\n",
    "    plt.show()"
   ]
  },
  {
   "cell_type": "code",
   "execution_count": 17,
   "metadata": {
    "colab": {
     "base_uri": "https://localhost:8080/",
     "height": 624
    },
    "executionInfo": {
     "elapsed": 246,
     "status": "ok",
     "timestamp": 1669435177081,
     "user": {
      "displayName": "Duc Pham Viet",
      "userId": "16134707458475919078"
     },
     "user_tz": 300
    },
    "id": "dWyU-JGOFLSG",
    "outputId": "7da8ae03-0a84-4696-b956-8d6379f35a90",
    "scrolled": false
   },
   "outputs": [
    {
     "data": {
      "text/plain": [
       "<AxesSubplot:xlabel='Class', ylabel='count'>"
      ]
     },
     "execution_count": 17,
     "metadata": {},
     "output_type": "execute_result"
    },
    {
     "data": {
      "image/png": "[encoded data removed]",
      "text/plain": [
       "<Figure size 1080x720 with 1 Axes>"
      ]
     },
     "metadata": {
      "needs_background": "light"
     },
     "output_type": "display_data"
    }
   ],
   "source": [
    "# Visualazing Class using a countplot \n",
    "# Higher number of benign tumors in the data \n",
    "plt.figure(figsize=(15,10))\n",
    "sns.countplot(x=\"Class\", data=df1 , palette=\"Set1\")"
   ]
  },
  {
   "cell_type": "code",
   "execution_count": 18,
   "metadata": {
    "colab": {
     "base_uri": "https://localhost:8080/",
     "height": 503
    },
    "executionInfo": {
     "elapsed": 883,
     "status": "ok",
     "timestamp": 1669435178240,
     "user": {
      "displayName": "Duc Pham Viet",
      "userId": "16134707458475919078"
     },
     "user_tz": 300
    },
    "id": "evdHz0koFLSH",
    "outputId": "437c1dbc-527e-45d7-d34a-c36baea78f06",
    "scrolled": false
   },
   "outputs": [
    {
     "data": {
      "image/png": "[encoded data removed]",
      "text/plain": [
       "<Figure size 936x576 with 2 Axes>"
      ]
     },
     "metadata": {
      "needs_background": "light"
     },
     "output_type": "display_data"
    }
   ],
   "source": [
    "# plotting correlation heatmap\n",
    "plt.figure(figsize=(13,8))\n",
    "heatmap = sns.heatmap(df1.corr()[['Class']].sort_values(by='Class', ascending=False), vmin=-1, vmax=1, annot=True, cmap='BrBG')\n",
    "heatmap.set_title('Features Correlating with Class (Benign/Malignant)', fontdict={'fontsize':18});"
   ]
  },
  {
   "cell_type": "code",
   "execution_count": 19,
   "metadata": {
    "executionInfo": {
     "elapsed": 79,
     "status": "ok",
     "timestamp": 1669435185661,
     "user": {
      "displayName": "Duc Pham Viet",
      "userId": "16134707458475919078"
     },
     "user_tz": 300
    },
    "id": "wyG1fNM1FLSH"
   },
   "outputs": [],
   "source": [
    "# cast datatypes into float\n",
    "df2 = df1.copy()\n",
    "df_numerical = df2.astype('float')"
   ]
  },
  {
   "cell_type": "code",
   "execution_count": 20,
   "metadata": {
    "colab": {
     "base_uri": "https://localhost:8080/"
    },
    "executionInfo": {
     "elapsed": 86,
     "status": "ok",
     "timestamp": 1669435190653,
     "user": {
      "displayName": "Duc Pham Viet",
      "userId": "16134707458475919078"
     },
     "user_tz": 300
    },
    "id": "7njCS3AlFLSH",
    "outputId": "25e96231-3afd-48dc-98ca-6bdeb90003f5",
    "scrolled": true
   },
   "outputs": [
    {
     "data": {
      "text/plain": [
       "ID number                      float64\n",
       "Clump Thickness                float64\n",
       "Uniformity of Cell Size        float64\n",
       "Uniformity of Cell Shape       float64\n",
       "Marginal Adhesion              float64\n",
       "Single Epithelial Cell Size    float64\n",
       "Bare Nuclei                    float64\n",
       "Bland Chromatin                float64\n",
       "Normal Nucleoli                float64\n",
       "Mitoses                        float64\n",
       "Class                          float64\n",
       "dtype: object"
      ]
     },
     "execution_count": 20,
     "metadata": {},
     "output_type": "execute_result"
    }
   ],
   "source": [
    "# show datatypes\n",
    "df_numerical.dtypes"
   ]
  },
  {
   "cell_type": "code",
   "execution_count": 21,
   "metadata": {
    "colab": {
     "base_uri": "https://localhost:8080/",
     "height": 363
    },
    "executionInfo": {
     "elapsed": 89,
     "status": "ok",
     "timestamp": 1669435195090,
     "user": {
      "displayName": "Duc Pham Viet",
      "userId": "16134707458475919078"
     },
     "user_tz": 300
    },
    "id": "_iINzRVNFLSI",
    "outputId": "4c8f38fe-474b-4e31-a96e-f3619eabd4da",
    "scrolled": false
   },
   "outputs": [
    {
     "data": {
      "text/html": [
       "<div>\n",
       "<style scoped>\n",
       "    .dataframe tbody tr th:only-of-type {\n",
       "        vertical-align: middle;\n",
       "    }\n",
       "\n",
       "    .dataframe tbody tr th {\n",
       "        vertical-align: top;\n",
       "    }\n",
       "\n",
       "    .dataframe thead th {\n",
       "        text-align: right;\n",
       "    }\n",
       "</style>\n",
       "<table border=\"1\" class=\"dataframe\">\n",
       "  <thead>\n",
       "    <tr style=\"text-align: right;\">\n",
       "      <th></th>\n",
       "      <th>ID number</th>\n",
       "      <th>Clump Thickness</th>\n",
       "      <th>Uniformity of Cell Size</th>\n",
       "      <th>Uniformity of Cell Shape</th>\n",
       "      <th>Marginal Adhesion</th>\n",
       "      <th>Single Epithelial Cell Size</th>\n",
       "      <th>Bare Nuclei</th>\n",
       "      <th>Bland Chromatin</th>\n",
       "      <th>Normal Nucleoli</th>\n",
       "      <th>Mitoses</th>\n",
       "      <th>Class</th>\n",
       "    </tr>\n",
       "  </thead>\n",
       "  <tbody>\n",
       "    <tr>\n",
       "      <th>0</th>\n",
       "      <td>1000025.0</td>\n",
       "      <td>5.0</td>\n",
       "      <td>1.0</td>\n",
       "      <td>1.0</td>\n",
       "      <td>1.0</td>\n",
       "      <td>2.0</td>\n",
       "      <td>1.0</td>\n",
       "      <td>3.0</td>\n",
       "      <td>1.0</td>\n",
       "      <td>1.0</td>\n",
       "      <td>2.0</td>\n",
       "    </tr>\n",
       "    <tr>\n",
       "      <th>1</th>\n",
       "      <td>1002945.0</td>\n",
       "      <td>5.0</td>\n",
       "      <td>4.0</td>\n",
       "      <td>4.0</td>\n",
       "      <td>5.0</td>\n",
       "      <td>7.0</td>\n",
       "      <td>10.0</td>\n",
       "      <td>3.0</td>\n",
       "      <td>2.0</td>\n",
       "      <td>1.0</td>\n",
       "      <td>2.0</td>\n",
       "    </tr>\n",
       "    <tr>\n",
       "      <th>2</th>\n",
       "      <td>1015425.0</td>\n",
       "      <td>3.0</td>\n",
       "      <td>1.0</td>\n",
       "      <td>1.0</td>\n",
       "      <td>1.0</td>\n",
       "      <td>2.0</td>\n",
       "      <td>2.0</td>\n",
       "      <td>3.0</td>\n",
       "      <td>1.0</td>\n",
       "      <td>1.0</td>\n",
       "      <td>2.0</td>\n",
       "    </tr>\n",
       "    <tr>\n",
       "      <th>3</th>\n",
       "      <td>1016277.0</td>\n",
       "      <td>6.0</td>\n",
       "      <td>8.0</td>\n",
       "      <td>8.0</td>\n",
       "      <td>1.0</td>\n",
       "      <td>3.0</td>\n",
       "      <td>4.0</td>\n",
       "      <td>3.0</td>\n",
       "      <td>7.0</td>\n",
       "      <td>1.0</td>\n",
       "      <td>2.0</td>\n",
       "    </tr>\n",
       "    <tr>\n",
       "      <th>4</th>\n",
       "      <td>1017023.0</td>\n",
       "      <td>4.0</td>\n",
       "      <td>1.0</td>\n",
       "      <td>1.0</td>\n",
       "      <td>3.0</td>\n",
       "      <td>2.0</td>\n",
       "      <td>1.0</td>\n",
       "      <td>3.0</td>\n",
       "      <td>1.0</td>\n",
       "      <td>1.0</td>\n",
       "      <td>2.0</td>\n",
       "    </tr>\n",
       "    <tr>\n",
       "      <th>5</th>\n",
       "      <td>1017122.0</td>\n",
       "      <td>8.0</td>\n",
       "      <td>10.0</td>\n",
       "      <td>10.0</td>\n",
       "      <td>8.0</td>\n",
       "      <td>7.0</td>\n",
       "      <td>10.0</td>\n",
       "      <td>9.0</td>\n",
       "      <td>7.0</td>\n",
       "      <td>1.0</td>\n",
       "      <td>4.0</td>\n",
       "    </tr>\n",
       "    <tr>\n",
       "      <th>6</th>\n",
       "      <td>1018099.0</td>\n",
       "      <td>1.0</td>\n",
       "      <td>1.0</td>\n",
       "      <td>1.0</td>\n",
       "      <td>1.0</td>\n",
       "      <td>2.0</td>\n",
       "      <td>10.0</td>\n",
       "      <td>3.0</td>\n",
       "      <td>1.0</td>\n",
       "      <td>1.0</td>\n",
       "      <td>2.0</td>\n",
       "    </tr>\n",
       "    <tr>\n",
       "      <th>7</th>\n",
       "      <td>1018561.0</td>\n",
       "      <td>2.0</td>\n",
       "      <td>1.0</td>\n",
       "      <td>2.0</td>\n",
       "      <td>1.0</td>\n",
       "      <td>2.0</td>\n",
       "      <td>1.0</td>\n",
       "      <td>3.0</td>\n",
       "      <td>1.0</td>\n",
       "      <td>1.0</td>\n",
       "      <td>2.0</td>\n",
       "    </tr>\n",
       "    <tr>\n",
       "      <th>8</th>\n",
       "      <td>1033078.0</td>\n",
       "      <td>2.0</td>\n",
       "      <td>1.0</td>\n",
       "      <td>1.0</td>\n",
       "      <td>1.0</td>\n",
       "      <td>2.0</td>\n",
       "      <td>1.0</td>\n",
       "      <td>1.0</td>\n",
       "      <td>1.0</td>\n",
       "      <td>5.0</td>\n",
       "      <td>2.0</td>\n",
       "    </tr>\n",
       "    <tr>\n",
       "      <th>9</th>\n",
       "      <td>1033078.0</td>\n",
       "      <td>4.0</td>\n",
       "      <td>2.0</td>\n",
       "      <td>1.0</td>\n",
       "      <td>1.0</td>\n",
       "      <td>2.0</td>\n",
       "      <td>1.0</td>\n",
       "      <td>2.0</td>\n",
       "      <td>1.0</td>\n",
       "      <td>1.0</td>\n",
       "      <td>2.0</td>\n",
       "    </tr>\n",
       "  </tbody>\n",
       "</table>\n",
       "</div>"
      ],
      "text/plain": [
       "   ID number  Clump Thickness  Uniformity of Cell Size  \\\n",
       "0  1000025.0              5.0                      1.0   \n",
       "1  1002945.0              5.0                      4.0   \n",
       "2  1015425.0              3.0                      1.0   \n",
       "3  1016277.0              6.0                      8.0   \n",
       "4  1017023.0              4.0                      1.0   \n",
       "5  1017122.0              8.0                     10.0   \n",
       "6  1018099.0              1.0                      1.0   \n",
       "7  1018561.0              2.0                      1.0   \n",
       "8  1033078.0              2.0                      1.0   \n",
       "9  1033078.0              4.0                      2.0   \n",
       "\n",
       "   Uniformity of Cell Shape  Marginal Adhesion  Single Epithelial Cell Size  \\\n",
       "0                       1.0                1.0                          2.0   \n",
       "1                       4.0                5.0                          7.0   \n",
       "2                       1.0                1.0                          2.0   \n",
       "3                       8.0                1.0                          3.0   \n",
       "4                       1.0                3.0                          2.0   \n",
       "5                      10.0                8.0                          7.0   \n",
       "6                       1.0                1.0                          2.0   \n",
       "7                       2.0                1.0                          2.0   \n",
       "8                       1.0                1.0                          2.0   \n",
       "9                       1.0                1.0                          2.0   \n",
       "\n",
       "   Bare Nuclei  Bland Chromatin  Normal Nucleoli  Mitoses  Class  \n",
       "0          1.0              3.0              1.0      1.0    2.0  \n",
       "1         10.0              3.0              2.0      1.0    2.0  \n",
       "2          2.0              3.0              1.0      1.0    2.0  \n",
       "3          4.0              3.0              7.0      1.0    2.0  \n",
       "4          1.0              3.0              1.0      1.0    2.0  \n",
       "5         10.0              9.0              7.0      1.0    4.0  \n",
       "6         10.0              3.0              1.0      1.0    2.0  \n",
       "7          1.0              3.0              1.0      1.0    2.0  \n",
       "8          1.0              1.0              1.0      5.0    2.0  \n",
       "9          1.0              2.0              1.0      1.0    2.0  "
      ]
     },
     "execution_count": 21,
     "metadata": {},
     "output_type": "execute_result"
    }
   ],
   "source": [
    "# check data \n",
    "df_numerical.head(10)"
   ]
  },
  {
   "cell_type": "markdown",
   "metadata": {
    "id": "kYd8x9iJFLSI"
   },
   "source": [
    "#### <font color='blue'> Splitting Data to Training and Validation</font>"
   ]
  },
  {
   "cell_type": "code",
   "execution_count": 22,
   "metadata": {},
   "outputs": [],
   "source": [
    "from sklearn.model_selection import train_test_split\n",
    "x_train, x_valid, y_train, y_valid = train_test_split(df_numerical, df_numerical[\"Class\"], \n",
    "                                                                test_size=0.25, train_size = 0.75, random_state=0)"
   ]
  },
  {
   "cell_type": "code",
   "execution_count": 23,
   "metadata": {
    "executionInfo": {
     "elapsed": 92,
     "status": "ok",
     "timestamp": 1669435207789,
     "user": {
      "displayName": "Duc Pham Viet",
      "userId": "16134707458475919078"
     },
     "user_tz": 300
    },
    "id": "5G1N8abqFLSI"
   },
   "outputs": [],
   "source": [
    "# splitting the data to descriptive features and target feature \n",
    "x = df_numerical.iloc[:,0:10]  # descriptive features\n",
    "Y = df_numerical.iloc[:,-1]    # target feature (class)"
   ]
  },
  {
   "cell_type": "markdown",
   "metadata": {
    "id": "fne6xglFFLSI"
   },
   "source": [
    "##### <font color='blue'> Feature Importance</font>"
   ]
  },
  {
   "cell_type": "code",
   "execution_count": 24,
   "metadata": {},
   "outputs": [
    {
     "data": {
      "text/plain": [
       "Class                          0.649245\n",
       "Uniformity of Cell Size        0.496623\n",
       "Uniformity of Cell Shape       0.466368\n",
       "Bare Nuclei                    0.417462\n",
       "Bland Chromatin                0.415105\n",
       "Single Epithelial Cell Size    0.341350\n",
       "Normal Nucleoli                0.340098\n",
       "Marginal Adhesion              0.333525\n",
       "Clump Thickness                0.321003\n",
       "Mitoses                        0.146511\n",
       "ID number                      0.021326\n",
       "dtype: float64"
      ]
     },
     "execution_count": 24,
     "metadata": {},
     "output_type": "execute_result"
    }
   ],
   "source": [
    "from sklearn.feature_selection import mutual_info_classif\n",
    "\n",
    "# calculate dependency between each training descriptive feature and target\n",
    "mutual_info = mutual_info_classif(x_train, y_train)\n",
    "\n",
    "# change to series and set index as column names\n",
    "mutual_info = pd.Series(mutual_info)\n",
    "mutual_info.index = x_train.columns\n",
    "mutual_info.sort_values(ascending=False, inplace=True)\n",
    "mutual_info"
   ]
  },
  {
   "cell_type": "code",
   "execution_count": 25,
   "metadata": {},
   "outputs": [
    {
     "data": {
      "text/plain": [
       "<AxesSubplot:>"
      ]
     },
     "execution_count": 25,
     "metadata": {},
     "output_type": "execute_result"
    },
    {
     "data": {
      "image/png": "[encoded data removed]",
      "text/plain": [
       "<Figure size 1440x576 with 1 Axes>"
      ]
     },
     "metadata": {
      "needs_background": "light"
     },
     "output_type": "display_data"
    }
   ],
   "source": [
    "# visualize dependencies\n",
    "mutual_info.plot.bar(figsize=(20,8))"
   ]
  },
  {
   "cell_type": "code",
   "execution_count": 26,
   "metadata": {},
   "outputs": [
    {
     "data": {
      "text/plain": [
       "Class                          0.632527\n",
       "Uniformity of Cell Shape       0.434210\n",
       "Bare Nuclei                    0.419161\n",
       "Uniformity of Cell Size        0.356451\n",
       "Normal Nucleoli                0.333612\n",
       "Single Epithelial Cell Size    0.321730\n",
       "Bland Chromatin                0.316291\n",
       "Clump Thickness                0.269132\n",
       "Marginal Adhesion              0.208933\n",
       "Mitoses                        0.065825\n",
       "ID number                      0.040019\n",
       "dtype: float64"
      ]
     },
     "execution_count": 26,
     "metadata": {},
     "output_type": "execute_result"
    }
   ],
   "source": [
    "# calculate dependency between each training descriptive feature and target\n",
    "mutual_info = mutual_info_classif(x_valid, y_valid)\n",
    "\n",
    "# change to series and set index as column names\n",
    "mutual_info = pd.Series(mutual_info)\n",
    "mutual_info.index = x_valid.columns\n",
    "mutual_info.sort_values(ascending=False, inplace=True)\n",
    "mutual_info"
   ]
  },
  {
   "cell_type": "code",
   "execution_count": 27,
   "metadata": {},
   "outputs": [
    {
     "data": {
      "text/plain": [
       "<AxesSubplot:>"
      ]
     },
     "execution_count": 27,
     "metadata": {},
     "output_type": "execute_result"
    },
    {
     "data": {
      "image/png": "[encoded data removed]",
      "text/plain": [
       "<Figure size 1440x576 with 1 Axes>"
      ]
     },
     "metadata": {
      "needs_background": "light"
     },
     "output_type": "display_data"
    }
   ],
   "source": [
    "# visualize dependencies\n",
    "mutual_info.plot.bar(figsize=(20,8))"
   ]
  },
  {
   "cell_type": "code",
   "execution_count": 28,
   "metadata": {
    "scrolled": false
   },
   "outputs": [
    {
     "name": "stdout",
     "output_type": "stream",
     "text": [
      "[0.00104195 0.02068121 0.1103966  0.09977265 0.05921044 0.01890349\n",
      " 0.12514921 0.04071388 0.06109559 0.00434757 0.4586874 ]\n"
     ]
    },
    {
     "data": {
      "image/png": "[encoded data removed]",
      "text/plain": [
       "<Figure size 936x576 with 1 Axes>"
      ]
     },
     "metadata": {
      "needs_background": "light"
     },
     "output_type": "display_data"
    }
   ],
   "source": [
    "# feature selection according to importance\n",
    "from sklearn.ensemble import ExtraTreesClassifier\n",
    "model = ExtraTreesClassifier()\n",
    "model.fit(x_train, y_train)\n",
    "print(model.feature_importances_) #use built-in class feature_importances of tree based classifiers\n",
    "\n",
    "\n",
    "#plot graph of feature importances for better visualization\n",
    "feat_importances = pd.Series(model.feature_importances_, index=x_train.columns)\n",
    "\n",
    "plt.figure(figsize=(13,8))\n",
    "feat_importances.nlargest(10).plot(kind='barh')\n",
    "plt.title('Feature Importance of Training Set')\n",
    "plt.show()"
   ]
  },
  {
   "cell_type": "code",
   "execution_count": 29,
   "metadata": {
    "colab": {
     "base_uri": "https://localhost:8080/",
     "height": 536
    },
    "executionInfo": {
     "elapsed": 944,
     "status": "ok",
     "timestamp": 1669435211702,
     "user": {
      "displayName": "Duc Pham Viet",
      "userId": "16134707458475919078"
     },
     "user_tz": 300
    },
    "id": "xuCHB46JFLSJ",
    "outputId": "c1ef69ea-3334-496b-dabf-efbe5847ab73",
    "scrolled": false
   },
   "outputs": [
    {
     "name": "stdout",
     "output_type": "stream",
     "text": [
      "[0.00409679 0.04389049 0.05831836 0.10879305 0.02181017 0.04355972\n",
      " 0.13017726 0.04000091 0.07729416 0.00436936 0.46768971]\n"
     ]
    },
    {
     "data": {
      "image/png": "[encoded data removed]",
      "text/plain": [
       "<Figure size 936x576 with 1 Axes>"
      ]
     },
     "metadata": {
      "needs_background": "light"
     },
     "output_type": "display_data"
    }
   ],
   "source": [
    "# feature selection according to importance\n",
    "from sklearn.ensemble import ExtraTreesClassifier\n",
    "model = ExtraTreesClassifier()\n",
    "model.fit(x_valid,y_valid)\n",
    "print(model.feature_importances_) #use built-in class feature_importances of tree based classifiers\n",
    "\n",
    "#plot graph of feature importances for better visualization\n",
    "feat_importances = pd.Series(model.feature_importances_, index=x_valid.columns)\n",
    "\n",
    "plt.figure(figsize=(13,8))\n",
    "feat_importances.nlargest(10).plot(kind='barh')\n",
    "plt.title('Feature Importance of Validation Set')\n",
    "plt.show()"
   ]
  },
  {
   "cell_type": "markdown",
   "metadata": {
    "id": "7C-ZIwUUFLSJ"
   },
   "source": [
    "#### <font color='blue'> Data Preprocessiong - for SVM </font>"
   ]
  },
  {
   "cell_type": "code",
   "execution_count": 30,
   "metadata": {
    "colab": {
     "base_uri": "https://localhost:8080/",
     "height": 143
    },
    "executionInfo": {
     "elapsed": 84,
     "status": "ok",
     "timestamp": 1669435215835,
     "user": {
      "displayName": "Duc Pham Viet",
      "userId": "16134707458475919078"
     },
     "user_tz": 300
    },
    "id": "k-XNBOojFLSJ",
    "outputId": "893af67b-79df-4c54-ac87-95e48795302f",
    "scrolled": true
   },
   "outputs": [
    {
     "data": {
      "text/html": [
       "<div>\n",
       "<style scoped>\n",
       "    .dataframe tbody tr th:only-of-type {\n",
       "        vertical-align: middle;\n",
       "    }\n",
       "\n",
       "    .dataframe tbody tr th {\n",
       "        vertical-align: top;\n",
       "    }\n",
       "\n",
       "    .dataframe thead th {\n",
       "        text-align: right;\n",
       "    }\n",
       "</style>\n",
       "<table border=\"1\" class=\"dataframe\">\n",
       "  <thead>\n",
       "    <tr style=\"text-align: right;\">\n",
       "      <th></th>\n",
       "      <th>Uniformity of Cell Size</th>\n",
       "      <th>Uniformity of Cell Shape</th>\n",
       "      <th>Bare Nuclei</th>\n",
       "      <th>Bland Chromatin</th>\n",
       "      <th>Normal Nucleoli</th>\n",
       "    </tr>\n",
       "  </thead>\n",
       "  <tbody>\n",
       "    <tr>\n",
       "      <th>0</th>\n",
       "      <td>1.0</td>\n",
       "      <td>1.0</td>\n",
       "      <td>1.0</td>\n",
       "      <td>3.0</td>\n",
       "      <td>1.0</td>\n",
       "    </tr>\n",
       "    <tr>\n",
       "      <th>1</th>\n",
       "      <td>4.0</td>\n",
       "      <td>4.0</td>\n",
       "      <td>10.0</td>\n",
       "      <td>3.0</td>\n",
       "      <td>2.0</td>\n",
       "    </tr>\n",
       "    <tr>\n",
       "      <th>2</th>\n",
       "      <td>1.0</td>\n",
       "      <td>1.0</td>\n",
       "      <td>2.0</td>\n",
       "      <td>3.0</td>\n",
       "      <td>1.0</td>\n",
       "    </tr>\n",
       "  </tbody>\n",
       "</table>\n",
       "</div>"
      ],
      "text/plain": [
       "   Uniformity of Cell Size  Uniformity of Cell Shape  Bare Nuclei  \\\n",
       "0                      1.0                       1.0          1.0   \n",
       "1                      4.0                       4.0         10.0   \n",
       "2                      1.0                       1.0          2.0   \n",
       "\n",
       "   Bland Chromatin  Normal Nucleoli  \n",
       "0              3.0              1.0  \n",
       "1              3.0              2.0  \n",
       "2              3.0              1.0  "
      ]
     },
     "execution_count": 30,
     "metadata": {},
     "output_type": "execute_result"
    }
   ],
   "source": [
    "# Selected features Bare Nuclei, Normal Nucleoli, Uniformity of Cell Size, Uniformity of Cell Shape, Bland Chromatin\n",
    "# dropping the 'ID number', 'Mitoses', 'Marginal Adhesion' columns 'Single Epithelial Cell Size', 'Mitoses'\n",
    "X = x.drop(['ID number', 'Clump Thickness','Marginal Adhesion', 'Single Epithelial Cell Size', 'Mitoses'], axis=1)\n",
    "X.head(3)"
   ]
  },
  {
   "cell_type": "code",
   "execution_count": 31,
   "metadata": {},
   "outputs": [
    {
     "data": {
      "text/html": [
       "<div>\n",
       "<style scoped>\n",
       "    .dataframe tbody tr th:only-of-type {\n",
       "        vertical-align: middle;\n",
       "    }\n",
       "\n",
       "    .dataframe tbody tr th {\n",
       "        vertical-align: top;\n",
       "    }\n",
       "\n",
       "    .dataframe thead th {\n",
       "        text-align: right;\n",
       "    }\n",
       "</style>\n",
       "<table border=\"1\" class=\"dataframe\">\n",
       "  <thead>\n",
       "    <tr style=\"text-align: right;\">\n",
       "      <th></th>\n",
       "      <th>Uniformity of Cell Size</th>\n",
       "      <th>Uniformity of Cell Shape</th>\n",
       "      <th>Bare Nuclei</th>\n",
       "      <th>Bland Chromatin</th>\n",
       "      <th>Normal Nucleoli</th>\n",
       "    </tr>\n",
       "  </thead>\n",
       "  <tbody>\n",
       "    <tr>\n",
       "      <th>0</th>\n",
       "      <td>0.000000</td>\n",
       "      <td>0.000000</td>\n",
       "      <td>0.000000</td>\n",
       "      <td>0.222222</td>\n",
       "      <td>0.000000</td>\n",
       "    </tr>\n",
       "    <tr>\n",
       "      <th>1</th>\n",
       "      <td>0.333333</td>\n",
       "      <td>0.333333</td>\n",
       "      <td>1.000000</td>\n",
       "      <td>0.222222</td>\n",
       "      <td>0.111111</td>\n",
       "    </tr>\n",
       "    <tr>\n",
       "      <th>2</th>\n",
       "      <td>0.000000</td>\n",
       "      <td>0.000000</td>\n",
       "      <td>0.111111</td>\n",
       "      <td>0.222222</td>\n",
       "      <td>0.000000</td>\n",
       "    </tr>\n",
       "    <tr>\n",
       "      <th>3</th>\n",
       "      <td>0.777778</td>\n",
       "      <td>0.777778</td>\n",
       "      <td>0.333333</td>\n",
       "      <td>0.222222</td>\n",
       "      <td>0.666667</td>\n",
       "    </tr>\n",
       "    <tr>\n",
       "      <th>4</th>\n",
       "      <td>0.000000</td>\n",
       "      <td>0.000000</td>\n",
       "      <td>0.000000</td>\n",
       "      <td>0.222222</td>\n",
       "      <td>0.000000</td>\n",
       "    </tr>\n",
       "  </tbody>\n",
       "</table>\n",
       "</div>"
      ],
      "text/plain": [
       "   Uniformity of Cell Size  Uniformity of Cell Shape  Bare Nuclei  \\\n",
       "0                 0.000000                  0.000000     0.000000   \n",
       "1                 0.333333                  0.333333     1.000000   \n",
       "2                 0.000000                  0.000000     0.111111   \n",
       "3                 0.777778                  0.777778     0.333333   \n",
       "4                 0.000000                  0.000000     0.000000   \n",
       "\n",
       "   Bland Chromatin  Normal Nucleoli  \n",
       "0         0.222222         0.000000  \n",
       "1         0.222222         0.111111  \n",
       "2         0.222222         0.000000  \n",
       "3         0.222222         0.666667  \n",
       "4         0.222222         0.000000  "
      ]
     },
     "execution_count": 31,
     "metadata": {},
     "output_type": "execute_result"
    }
   ],
   "source": [
    "# normalizing data using MinMaxScaler\n",
    "from sklearn import preprocessing\n",
    "\n",
    "min_max_scaler = preprocessing.MinMaxScaler()\n",
    "\n",
    "a_scaled = min_max_scaler.fit_transform(X) #a_scaled is an N-d numpy array now. We need to create a new dataframe off of it\n",
    "df_scaled = pd.DataFrame(data=a_scaled, columns=X.columns)\n",
    "df_scaled.head()"
   ]
  },
  {
   "cell_type": "markdown",
   "metadata": {
    "id": "y4sJnI6IFLSJ"
   },
   "source": [
    "#### <font color='blue'> Splitting Data - KCross Validation</font>"
   ]
  },
  {
   "cell_type": "code",
   "execution_count": 32,
   "metadata": {
    "executionInfo": {
     "elapsed": 107,
     "status": "ok",
     "timestamp": 1669435219461,
     "user": {
      "displayName": "Duc Pham Viet",
      "userId": "16134707458475919078"
     },
     "user_tz": 300
    },
    "id": "CFiVVFarFLSJ"
   },
   "outputs": [],
   "source": [
    "# kfold cross validation\n",
    "from sklearn.model_selection import KFold\n",
    "\n",
    "kf = KFold(n_splits=5, random_state=1, shuffle=True)\n",
    "kfold = kf.split(df_scaled, Y)"
   ]
  },
  {
   "cell_type": "markdown",
   "metadata": {
    "id": "zjkBWuJgFLSK"
   },
   "source": [
    "#### <font color='blue'> Applying Support Vector Machines (SVM) </font>"
   ]
  },
  {
   "cell_type": "code",
   "execution_count": 33,
   "metadata": {
    "executionInfo": {
     "elapsed": 104,
     "status": "ok",
     "timestamp": 1669435222601,
     "user": {
      "displayName": "Duc Pham Viet",
      "userId": "16134707458475919078"
     },
     "user_tz": 300
    },
    "id": "WH5rXzkdFLSK"
   },
   "outputs": [],
   "source": [
    "# importing Support Vector Machine (SVM) Classifier\n",
    "from sklearn import svm\n",
    "\n",
    "# create support vector machines model\n",
    "svc = svm.SVC()"
   ]
  },
  {
   "cell_type": "code",
   "execution_count": 34,
   "metadata": {
    "colab": {
     "base_uri": "https://localhost:8080/"
    },
    "executionInfo": {
     "elapsed": 173,
     "status": "ok",
     "timestamp": 1669435223841,
     "user": {
      "displayName": "Duc Pham Viet",
      "userId": "16134707458475919078"
     },
     "user_tz": 300
    },
    "id": "MD59LvYhFLSK",
    "outputId": "a715b727-d1f2-4e55-88c6-749252f5de1b"
   },
   "outputs": [
    {
     "name": "stdout",
     "output_type": "stream",
     "text": [
      "Fold:  1, Accuracy: 0.9424\n",
      "Fold:  2, Accuracy: 0.9493\n",
      "Fold:  3, Accuracy: 0.9565\n",
      "Fold:  4, Accuracy: 0.9638\n",
      "Fold:  5, Accuracy: 0.9783\n",
      "\n",
      "\n",
      "SVM Cross-Validation accuracy: mean: 0.9581, std: 0.0124 \n"
     ]
    }
   ],
   "source": [
    "# evaluate the scores of each fold\n",
    "scores = []\n",
    "\n",
    "for k, (train, test) in enumerate(kfold):\n",
    "    svc.fit(df_scaled.iloc[train, :], Y.iloc[train])\n",
    "    score = svc.score(df_scaled.iloc[test, :], Y.iloc[test])\n",
    "    scores.append(score)\n",
    "    print('Fold: %2d, Accuracy: %.4f' % (k+1, score))\n",
    "print('\\n\\nSVM Cross-Validation accuracy: mean: %.4f, std: %.4f ' %(np.mean(scores), np.std(scores)))"
   ]
  },
  {
   "cell_type": "markdown",
   "metadata": {},
   "source": [
    "#### <font color='blue'> Splitting Data for GridSearch </font>"
   ]
  },
  {
   "cell_type": "code",
   "execution_count": 35,
   "metadata": {},
   "outputs": [],
   "source": [
    "# split data into training and testing sets\n",
    "X_train, X_test, Y_train, Y_test = train_test_split(X, Y, test_size=0.33, random_state=0)"
   ]
  },
  {
   "cell_type": "markdown",
   "metadata": {},
   "source": [
    "#### <font color='blue'> Grid Search - Parameter Tuning </font>"
   ]
  },
  {
   "cell_type": "code",
   "execution_count": 68,
   "metadata": {},
   "outputs": [
    {
     "name": "stdout",
     "output_type": "stream",
     "text": [
      "Tuned Support Vector Machines Parameters: {'C': 1}\n",
      "Maximum accuracy achieved by sklearn model through grid searching:  96.51\n"
     ]
    }
   ],
   "source": [
    "from sklearn.model_selection import GridSearchCV\n",
    "\n",
    "# defining parameter for SVM   \n",
    "parameters = {'C': [1,2,3,4,5,6,7,8,9,100]} \n",
    "\n",
    "# using SVM, apply grid search\n",
    "model = svm.SVC()   \n",
    "grid = GridSearchCV(model, parameters)    \n",
    "grid.fit(X_train, Y_train)\n",
    "\n",
    "# predict values for test set\n",
    "Y_pred = grid.predict(X_test)\n",
    "\n",
    "# counter for correct classification \n",
    "correct = 0\n",
    "\n",
    "# remove index so we can iterate through Y_test\n",
    "y_test_noIndex = Y_test.reset_index(drop = True)\n",
    "\n",
    "for i in range(np.size(Y_pred)):\n",
    "    #if correctly predicted\n",
    "    if y_test_noIndex[i] == Y_pred[i] :            \n",
    "        #increase correct count\n",
    "        correct += 1  \n",
    "\n",
    "# calculate accuracy             \n",
    "accuracy = (correct/np.size(Y_pred)) * 100\n",
    "\n",
    "print(\"Tuned Support Vector Machines Parameters: {}\".format(grid.best_params_))\n",
    "print(\"Maximum accuracy achieved by sklearn model through grid searching: \", np.round(accuracy, 2))"
   ]
  },
  {
   "cell_type": "markdown",
   "metadata": {},
   "source": [
    "#### <font color='blue'> Data Preprocessiong - for KNN </font>"
   ]
  },
  {
   "cell_type": "code",
   "execution_count": 37,
   "metadata": {
    "scrolled": true
   },
   "outputs": [
    {
     "data": {
      "text/html": [
       "<div>\n",
       "<style scoped>\n",
       "    .dataframe tbody tr th:only-of-type {\n",
       "        vertical-align: middle;\n",
       "    }\n",
       "\n",
       "    .dataframe tbody tr th {\n",
       "        vertical-align: top;\n",
       "    }\n",
       "\n",
       "    .dataframe thead th {\n",
       "        text-align: right;\n",
       "    }\n",
       "</style>\n",
       "<table border=\"1\" class=\"dataframe\">\n",
       "  <thead>\n",
       "    <tr style=\"text-align: right;\">\n",
       "      <th></th>\n",
       "      <th>ID number</th>\n",
       "      <th>Clump Thickness</th>\n",
       "      <th>Uniformity of Cell Size</th>\n",
       "      <th>Uniformity of Cell Shape</th>\n",
       "      <th>Marginal Adhesion</th>\n",
       "      <th>Single Epithelial Cell Size</th>\n",
       "      <th>Bare Nuclei</th>\n",
       "      <th>Bland Chromatin</th>\n",
       "      <th>Normal Nucleoli</th>\n",
       "      <th>Mitoses</th>\n",
       "      <th>Class</th>\n",
       "    </tr>\n",
       "  </thead>\n",
       "  <tbody>\n",
       "    <tr>\n",
       "      <th>0</th>\n",
       "      <td>1000025.0</td>\n",
       "      <td>5.0</td>\n",
       "      <td>1.0</td>\n",
       "      <td>1.0</td>\n",
       "      <td>1.0</td>\n",
       "      <td>2.0</td>\n",
       "      <td>1.0</td>\n",
       "      <td>3.0</td>\n",
       "      <td>1.0</td>\n",
       "      <td>1.0</td>\n",
       "      <td>2.0</td>\n",
       "    </tr>\n",
       "    <tr>\n",
       "      <th>1</th>\n",
       "      <td>1002945.0</td>\n",
       "      <td>5.0</td>\n",
       "      <td>4.0</td>\n",
       "      <td>4.0</td>\n",
       "      <td>5.0</td>\n",
       "      <td>7.0</td>\n",
       "      <td>10.0</td>\n",
       "      <td>3.0</td>\n",
       "      <td>2.0</td>\n",
       "      <td>1.0</td>\n",
       "      <td>2.0</td>\n",
       "    </tr>\n",
       "  </tbody>\n",
       "</table>\n",
       "</div>"
      ],
      "text/plain": [
       "   ID number  Clump Thickness  Uniformity of Cell Size  \\\n",
       "0  1000025.0              5.0                      1.0   \n",
       "1  1002945.0              5.0                      4.0   \n",
       "\n",
       "   Uniformity of Cell Shape  Marginal Adhesion  Single Epithelial Cell Size  \\\n",
       "0                       1.0                1.0                          2.0   \n",
       "1                       4.0                5.0                          7.0   \n",
       "\n",
       "   Bare Nuclei  Bland Chromatin  Normal Nucleoli  Mitoses  Class  \n",
       "0          1.0              3.0              1.0      1.0    2.0  \n",
       "1         10.0              3.0              2.0      1.0    2.0  "
      ]
     },
     "execution_count": 37,
     "metadata": {},
     "output_type": "execute_result"
    }
   ],
   "source": [
    "df_numerical.head(2)"
   ]
  },
  {
   "cell_type": "code",
   "execution_count": 38,
   "metadata": {},
   "outputs": [],
   "source": [
    "# splitting the data to descriptive features and target feature \n",
    "x = df_numerical.iloc[:,0:10]  # descriptive features\n",
    "Y = df_numerical.iloc[:,-1]    # target feature (class)"
   ]
  },
  {
   "cell_type": "code",
   "execution_count": 39,
   "metadata": {},
   "outputs": [
    {
     "data": {
      "text/html": [
       "<div>\n",
       "<style scoped>\n",
       "    .dataframe tbody tr th:only-of-type {\n",
       "        vertical-align: middle;\n",
       "    }\n",
       "\n",
       "    .dataframe tbody tr th {\n",
       "        vertical-align: top;\n",
       "    }\n",
       "\n",
       "    .dataframe thead th {\n",
       "        text-align: right;\n",
       "    }\n",
       "</style>\n",
       "<table border=\"1\" class=\"dataframe\">\n",
       "  <thead>\n",
       "    <tr style=\"text-align: right;\">\n",
       "      <th></th>\n",
       "      <th>Uniformity of Cell Size</th>\n",
       "      <th>Uniformity of Cell Shape</th>\n",
       "      <th>Bare Nuclei</th>\n",
       "      <th>Bland Chromatin</th>\n",
       "      <th>Normal Nucleoli</th>\n",
       "    </tr>\n",
       "  </thead>\n",
       "  <tbody>\n",
       "    <tr>\n",
       "      <th>0</th>\n",
       "      <td>1.0</td>\n",
       "      <td>1.0</td>\n",
       "      <td>1.0</td>\n",
       "      <td>3.0</td>\n",
       "      <td>1.0</td>\n",
       "    </tr>\n",
       "    <tr>\n",
       "      <th>1</th>\n",
       "      <td>4.0</td>\n",
       "      <td>4.0</td>\n",
       "      <td>10.0</td>\n",
       "      <td>3.0</td>\n",
       "      <td>2.0</td>\n",
       "    </tr>\n",
       "    <tr>\n",
       "      <th>2</th>\n",
       "      <td>1.0</td>\n",
       "      <td>1.0</td>\n",
       "      <td>2.0</td>\n",
       "      <td>3.0</td>\n",
       "      <td>1.0</td>\n",
       "    </tr>\n",
       "  </tbody>\n",
       "</table>\n",
       "</div>"
      ],
      "text/plain": [
       "   Uniformity of Cell Size  Uniformity of Cell Shape  Bare Nuclei  \\\n",
       "0                      1.0                       1.0          1.0   \n",
       "1                      4.0                       4.0         10.0   \n",
       "2                      1.0                       1.0          2.0   \n",
       "\n",
       "   Bland Chromatin  Normal Nucleoli  \n",
       "0              3.0              1.0  \n",
       "1              3.0              2.0  \n",
       "2              3.0              1.0  "
      ]
     },
     "execution_count": 39,
     "metadata": {},
     "output_type": "execute_result"
    }
   ],
   "source": [
    "# Selected features Bare Nuclei, Normal Nucleoli, Uniformity of Cell Size, Uniformity of Cell Shape, Bland Chromatin\n",
    "# dropping the 'ID number', 'Mitoses', 'Marginal Adhesion' columns 'Single Epithelial Cell Size', 'Mitoses'\n",
    "X = x.drop(['ID number', 'Clump Thickness','Marginal Adhesion', 'Single Epithelial Cell Size', 'Mitoses'], axis=1)\n",
    "X.head(3)"
   ]
  },
  {
   "cell_type": "code",
   "execution_count": 40,
   "metadata": {},
   "outputs": [
    {
     "data": {
      "text/html": [
       "<div>\n",
       "<style scoped>\n",
       "    .dataframe tbody tr th:only-of-type {\n",
       "        vertical-align: middle;\n",
       "    }\n",
       "\n",
       "    .dataframe tbody tr th {\n",
       "        vertical-align: top;\n",
       "    }\n",
       "\n",
       "    .dataframe thead th {\n",
       "        text-align: right;\n",
       "    }\n",
       "</style>\n",
       "<table border=\"1\" class=\"dataframe\">\n",
       "  <thead>\n",
       "    <tr style=\"text-align: right;\">\n",
       "      <th></th>\n",
       "      <th>Uniformity of Cell Size</th>\n",
       "      <th>Uniformity of Cell Shape</th>\n",
       "      <th>Bare Nuclei</th>\n",
       "      <th>Bland Chromatin</th>\n",
       "      <th>Normal Nucleoli</th>\n",
       "    </tr>\n",
       "  </thead>\n",
       "  <tbody>\n",
       "    <tr>\n",
       "      <th>0</th>\n",
       "      <td>0.000000</td>\n",
       "      <td>0.000000</td>\n",
       "      <td>0.000000</td>\n",
       "      <td>0.222222</td>\n",
       "      <td>0.000000</td>\n",
       "    </tr>\n",
       "    <tr>\n",
       "      <th>1</th>\n",
       "      <td>0.333333</td>\n",
       "      <td>0.333333</td>\n",
       "      <td>1.000000</td>\n",
       "      <td>0.222222</td>\n",
       "      <td>0.111111</td>\n",
       "    </tr>\n",
       "    <tr>\n",
       "      <th>2</th>\n",
       "      <td>0.000000</td>\n",
       "      <td>0.000000</td>\n",
       "      <td>0.111111</td>\n",
       "      <td>0.222222</td>\n",
       "      <td>0.000000</td>\n",
       "    </tr>\n",
       "    <tr>\n",
       "      <th>3</th>\n",
       "      <td>0.777778</td>\n",
       "      <td>0.777778</td>\n",
       "      <td>0.333333</td>\n",
       "      <td>0.222222</td>\n",
       "      <td>0.666667</td>\n",
       "    </tr>\n",
       "    <tr>\n",
       "      <th>4</th>\n",
       "      <td>0.000000</td>\n",
       "      <td>0.000000</td>\n",
       "      <td>0.000000</td>\n",
       "      <td>0.222222</td>\n",
       "      <td>0.000000</td>\n",
       "    </tr>\n",
       "  </tbody>\n",
       "</table>\n",
       "</div>"
      ],
      "text/plain": [
       "   Uniformity of Cell Size  Uniformity of Cell Shape  Bare Nuclei  \\\n",
       "0                 0.000000                  0.000000     0.000000   \n",
       "1                 0.333333                  0.333333     1.000000   \n",
       "2                 0.000000                  0.000000     0.111111   \n",
       "3                 0.777778                  0.777778     0.333333   \n",
       "4                 0.000000                  0.000000     0.000000   \n",
       "\n",
       "   Bland Chromatin  Normal Nucleoli  \n",
       "0         0.222222         0.000000  \n",
       "1         0.222222         0.111111  \n",
       "2         0.222222         0.000000  \n",
       "3         0.222222         0.666667  \n",
       "4         0.222222         0.000000  "
      ]
     },
     "execution_count": 40,
     "metadata": {},
     "output_type": "execute_result"
    }
   ],
   "source": [
    "# normalizing data using MinMaxScaler\n",
    "from sklearn import preprocessing\n",
    "\n",
    "min_max_scaler = preprocessing.MinMaxScaler()\n",
    "\n",
    "a_scaled = min_max_scaler.fit_transform(X) #a_scaled is an N-d numpy array now. We need to create a new dataframe off of it\n",
    "df_scaled = pd.DataFrame(data=a_scaled, columns=X.columns)\n",
    "df_scaled.head()"
   ]
  },
  {
   "cell_type": "markdown",
   "metadata": {
    "id": "M757ADEQFLSK"
   },
   "source": [
    "#### <font color='blue'> Applying K- Nearest Neighbor (KNN) </font>"
   ]
  },
  {
   "cell_type": "code",
   "execution_count": 41,
   "metadata": {
    "executionInfo": {
     "elapsed": 111,
     "status": "ok",
     "timestamp": 1669435230666,
     "user": {
      "displayName": "Duc Pham Viet",
      "userId": "16134707458475919078"
     },
     "user_tz": 300
    },
    "id": "qBykC0OSFLSK"
   },
   "outputs": [],
   "source": [
    "# importing K-nearest neighbors classification model\n",
    "from sklearn.neighbors import KNeighborsClassifier\n",
    "KNN = KNeighborsClassifier(n_neighbors=10)"
   ]
  },
  {
   "cell_type": "code",
   "execution_count": 42,
   "metadata": {},
   "outputs": [],
   "source": [
    "# kfold cross validation\n",
    "from sklearn.model_selection import KFold\n",
    "\n",
    "kf = KFold(n_splits=5, random_state=1, shuffle=True)\n",
    "kfold = kf.split(df_scaled, Y)"
   ]
  },
  {
   "cell_type": "code",
   "execution_count": 43,
   "metadata": {
    "colab": {
     "base_uri": "https://localhost:8080/"
    },
    "executionInfo": {
     "elapsed": 105,
     "status": "ok",
     "timestamp": 1669435231457,
     "user": {
      "displayName": "Duc Pham Viet",
      "userId": "16134707458475919078"
     },
     "user_tz": 300
    },
    "id": "ji4XEnBgFLSL",
    "outputId": "4460ab13-5004-4c07-9efe-764fe1def730",
    "scrolled": false
   },
   "outputs": [
    {
     "name": "stdout",
     "output_type": "stream",
     "text": [
      "Fold:  1, Accuracy: 0.9281\n",
      "Fold:  2, Accuracy: 0.9493\n",
      "Fold:  3, Accuracy: 0.9638\n",
      "Fold:  4, Accuracy: 0.9565\n",
      "Fold:  5, Accuracy: 0.9710\n",
      "\n",
      "\n",
      "KNN Cross-Validation accuracy: mean: 0.9537, std: 0.0147 \n"
     ]
    }
   ],
   "source": [
    "# evaluate the scores of each fold\n",
    "scores = []\n",
    "\n",
    "for k, (train, test) in enumerate(kfold):\n",
    "    KNN.fit(df_scaled.iloc[train, :], Y.iloc[train])\n",
    "    score = KNN.score(df_scaled.iloc[test, :], Y.iloc[test])\n",
    "    scores.append(score)\n",
    "    print('Fold: %2d, Accuracy: %.4f' % (k+1, score))\n",
    "print('\\n\\nKNN Cross-Validation accuracy: mean: %.4f, std: %.4f ' %(np.mean(scores), np.std(scores)))"
   ]
  },
  {
   "cell_type": "markdown",
   "metadata": {},
   "source": [
    "#### <font color='blue'> Grid Search - Parameter Tuning </font>"
   ]
  },
  {
   "cell_type": "code",
   "execution_count": 44,
   "metadata": {
    "scrolled": false
   },
   "outputs": [
    {
     "name": "stdout",
     "output_type": "stream",
     "text": [
      "Tuned KNeighbors Classifier Parameters: {'n_neighbors': 15, 'p': 3}\n",
      "Maximum accuracy achieved by sklearn model through grid searching: 93.01\n"
     ]
    }
   ],
   "source": [
    "# defining parameters for knn   \n",
    "parameters = {'n_neighbors': [10,15,25,45,50,75,90,92,93,95,100], 'p': [1,2,3,4]}\n",
    "\n",
    "# using a knn classifier, apply grid search\n",
    "model = KNeighborsClassifier()        \n",
    "grid = GridSearchCV(model, parameters)    \n",
    "grid.fit(X_train, Y_train)\n",
    "\n",
    "# predict values for test set\n",
    "Y_pred = grid.predict(X_test)\n",
    "\n",
    "# counter for correct classification \n",
    "correct = 0\n",
    "\n",
    "# remove index so we can iterate through Y_test\n",
    "y_test_noIndex = Y_test.reset_index(drop = True)\n",
    "\n",
    "for i in range(np.size(Y_pred)):\n",
    "    #if correctly predicted\n",
    "    if y_test_noIndex[i] == Y_pred[i] :            \n",
    "        #increase correct count\n",
    "        correct += 1  \n",
    "\n",
    "# calculate accuracy             \n",
    "accuracy = (correct/np.size(Y_pred)) * 100\n",
    "\n",
    "print(\"Tuned KNeighbors Classifier Parameters: {}\".format(grid.best_params_))\n",
    "print(\"Maximum accuracy achieved by sklearn model through grid searching:\", np.round(accuracy, 2))"
   ]
  },
  {
   "cell_type": "markdown",
   "metadata": {},
   "source": [
    "#### <font color='blue'> Data Preprocessiong - for Decision Tree </font>"
   ]
  },
  {
   "cell_type": "code",
   "execution_count": 45,
   "metadata": {},
   "outputs": [
    {
     "data": {
      "text/html": [
       "<div>\n",
       "<style scoped>\n",
       "    .dataframe tbody tr th:only-of-type {\n",
       "        vertical-align: middle;\n",
       "    }\n",
       "\n",
       "    .dataframe tbody tr th {\n",
       "        vertical-align: top;\n",
       "    }\n",
       "\n",
       "    .dataframe thead th {\n",
       "        text-align: right;\n",
       "    }\n",
       "</style>\n",
       "<table border=\"1\" class=\"dataframe\">\n",
       "  <thead>\n",
       "    <tr style=\"text-align: right;\">\n",
       "      <th></th>\n",
       "      <th>ID number</th>\n",
       "      <th>Clump Thickness</th>\n",
       "      <th>Uniformity of Cell Size</th>\n",
       "      <th>Uniformity of Cell Shape</th>\n",
       "      <th>Marginal Adhesion</th>\n",
       "      <th>Single Epithelial Cell Size</th>\n",
       "      <th>Bare Nuclei</th>\n",
       "      <th>Bland Chromatin</th>\n",
       "      <th>Normal Nucleoli</th>\n",
       "      <th>Mitoses</th>\n",
       "      <th>Class</th>\n",
       "    </tr>\n",
       "  </thead>\n",
       "  <tbody>\n",
       "    <tr>\n",
       "      <th>0</th>\n",
       "      <td>1000025.0</td>\n",
       "      <td>5.0</td>\n",
       "      <td>1.0</td>\n",
       "      <td>1.0</td>\n",
       "      <td>1.0</td>\n",
       "      <td>2.0</td>\n",
       "      <td>1.0</td>\n",
       "      <td>3.0</td>\n",
       "      <td>1.0</td>\n",
       "      <td>1.0</td>\n",
       "      <td>2.0</td>\n",
       "    </tr>\n",
       "    <tr>\n",
       "      <th>1</th>\n",
       "      <td>1002945.0</td>\n",
       "      <td>5.0</td>\n",
       "      <td>4.0</td>\n",
       "      <td>4.0</td>\n",
       "      <td>5.0</td>\n",
       "      <td>7.0</td>\n",
       "      <td>10.0</td>\n",
       "      <td>3.0</td>\n",
       "      <td>2.0</td>\n",
       "      <td>1.0</td>\n",
       "      <td>2.0</td>\n",
       "    </tr>\n",
       "  </tbody>\n",
       "</table>\n",
       "</div>"
      ],
      "text/plain": [
       "   ID number  Clump Thickness  Uniformity of Cell Size  \\\n",
       "0  1000025.0              5.0                      1.0   \n",
       "1  1002945.0              5.0                      4.0   \n",
       "\n",
       "   Uniformity of Cell Shape  Marginal Adhesion  Single Epithelial Cell Size  \\\n",
       "0                       1.0                1.0                          2.0   \n",
       "1                       4.0                5.0                          7.0   \n",
       "\n",
       "   Bare Nuclei  Bland Chromatin  Normal Nucleoli  Mitoses  Class  \n",
       "0          1.0              3.0              1.0      1.0    2.0  \n",
       "1         10.0              3.0              2.0      1.0    2.0  "
      ]
     },
     "execution_count": 45,
     "metadata": {},
     "output_type": "execute_result"
    }
   ],
   "source": [
    "df_numerical.head(2)"
   ]
  },
  {
   "cell_type": "code",
   "execution_count": 46,
   "metadata": {},
   "outputs": [],
   "source": [
    "# splitting the data to descriptive features and target feature \n",
    "x = df_numerical.iloc[:,0:10]  # descriptive features\n",
    "Y = df_numerical.iloc[:,-1]    # target feature (class)"
   ]
  },
  {
   "cell_type": "code",
   "execution_count": 47,
   "metadata": {},
   "outputs": [
    {
     "data": {
      "text/html": [
       "<div>\n",
       "<style scoped>\n",
       "    .dataframe tbody tr th:only-of-type {\n",
       "        vertical-align: middle;\n",
       "    }\n",
       "\n",
       "    .dataframe tbody tr th {\n",
       "        vertical-align: top;\n",
       "    }\n",
       "\n",
       "    .dataframe thead th {\n",
       "        text-align: right;\n",
       "    }\n",
       "</style>\n",
       "<table border=\"1\" class=\"dataframe\">\n",
       "  <thead>\n",
       "    <tr style=\"text-align: right;\">\n",
       "      <th></th>\n",
       "      <th>Uniformity of Cell Size</th>\n",
       "      <th>Uniformity of Cell Shape</th>\n",
       "      <th>Bare Nuclei</th>\n",
       "      <th>Bland Chromatin</th>\n",
       "      <th>Normal Nucleoli</th>\n",
       "    </tr>\n",
       "  </thead>\n",
       "  <tbody>\n",
       "    <tr>\n",
       "      <th>0</th>\n",
       "      <td>1.0</td>\n",
       "      <td>1.0</td>\n",
       "      <td>1.0</td>\n",
       "      <td>3.0</td>\n",
       "      <td>1.0</td>\n",
       "    </tr>\n",
       "    <tr>\n",
       "      <th>1</th>\n",
       "      <td>4.0</td>\n",
       "      <td>4.0</td>\n",
       "      <td>10.0</td>\n",
       "      <td>3.0</td>\n",
       "      <td>2.0</td>\n",
       "    </tr>\n",
       "    <tr>\n",
       "      <th>2</th>\n",
       "      <td>1.0</td>\n",
       "      <td>1.0</td>\n",
       "      <td>2.0</td>\n",
       "      <td>3.0</td>\n",
       "      <td>1.0</td>\n",
       "    </tr>\n",
       "  </tbody>\n",
       "</table>\n",
       "</div>"
      ],
      "text/plain": [
       "   Uniformity of Cell Size  Uniformity of Cell Shape  Bare Nuclei  \\\n",
       "0                      1.0                       1.0          1.0   \n",
       "1                      4.0                       4.0         10.0   \n",
       "2                      1.0                       1.0          2.0   \n",
       "\n",
       "   Bland Chromatin  Normal Nucleoli  \n",
       "0              3.0              1.0  \n",
       "1              3.0              2.0  \n",
       "2              3.0              1.0  "
      ]
     },
     "execution_count": 47,
     "metadata": {},
     "output_type": "execute_result"
    }
   ],
   "source": [
    "# Selected features Bare Nuclei, Normal Nucleoli, Uniformity of Cell Size, Uniformity of Cell Shape, Bland Chromatin\n",
    "# dropping the 'ID number', 'Mitoses', 'Marginal Adhesion' columns 'Single Epithelial Cell Size', 'Mitoses'\n",
    "X = x.drop(['ID number', 'Clump Thickness','Marginal Adhesion', 'Single Epithelial Cell Size', 'Mitoses'], axis=1)\n",
    "X.head(3)"
   ]
  },
  {
   "cell_type": "code",
   "execution_count": 48,
   "metadata": {},
   "outputs": [],
   "source": [
    "# kfold cross validation\n",
    "from sklearn.model_selection import KFold\n",
    "\n",
    "kf = KFold(n_splits=5, random_state=1, shuffle=True)\n",
    "kfold = kf.split(X, Y)"
   ]
  },
  {
   "cell_type": "markdown",
   "metadata": {
    "id": "2Ps3LxnbFLSL"
   },
   "source": [
    "#### <font color='blue'> Applying Decision Tree Classifier </font>"
   ]
  },
  {
   "cell_type": "code",
   "execution_count": 49,
   "metadata": {
    "executionInfo": {
     "elapsed": 110,
     "status": "ok",
     "timestamp": 1669435241634,
     "user": {
      "displayName": "Duc Pham Viet",
      "userId": "16134707458475919078"
     },
     "user_tz": 300
    },
    "id": "8uNya9OfFLSL"
   },
   "outputs": [],
   "source": [
    "# importing Decision Tree Classifier\n",
    "from sklearn.tree import DecisionTreeClassifier\n",
    "DT_clf = DecisionTreeClassifier(criterion='gini', splitter='random')"
   ]
  },
  {
   "cell_type": "code",
   "execution_count": 50,
   "metadata": {
    "colab": {
     "base_uri": "https://localhost:8080/"
    },
    "executionInfo": {
     "elapsed": 103,
     "status": "ok",
     "timestamp": 1669435243659,
     "user": {
      "displayName": "Duc Pham Viet",
      "userId": "16134707458475919078"
     },
     "user_tz": 300
    },
    "id": "QHfUXz1lFLSL",
    "outputId": "bc9bffa2-d4b8-4e90-d7ea-5a1b2de56dba"
   },
   "outputs": [
    {
     "name": "stdout",
     "output_type": "stream",
     "text": [
      "Fold:  1, Accuracy: 0.9065\n",
      "Fold:  2, Accuracy: 0.9348\n",
      "Fold:  3, Accuracy: 0.9493\n",
      "Fold:  4, Accuracy: 0.9565\n",
      "Fold:  5, Accuracy: 0.9420\n",
      "\n",
      "\n",
      "DT Cross-Validation accuracy: mean: 0.9378, std: 0.0173 \n"
     ]
    }
   ],
   "source": [
    "# evaluate the scores of each fold\n",
    "scores = []\n",
    "\n",
    "for k, (train, test) in enumerate(kfold):\n",
    "    DT_clf.fit(X.iloc[train, :], Y.iloc[train])\n",
    "    score = DT_clf.score(X.iloc[test, :], Y.iloc[test])\n",
    "    scores.append(score)\n",
    "    print('Fold: %2d, Accuracy: %.4f' % (k+1, score))\n",
    "print('\\n\\nDT Cross-Validation accuracy: mean: %.4f, std: %.4f ' %(np.mean(scores), np.std(scores)))"
   ]
  },
  {
   "cell_type": "markdown",
   "metadata": {},
   "source": [
    "#### <font color='blue'> Grid Search - Parameter Tuning </font>"
   ]
  },
  {
   "cell_type": "code",
   "execution_count": 51,
   "metadata": {
    "scrolled": true
   },
   "outputs": [
    {
     "name": "stdout",
     "output_type": "stream",
     "text": [
      "Tuned Decision Tree Parameters: {'criterion': 'entropy', 'max_depth': 6, 'max_features': 2, 'min_samples_leaf': 2, 'random_state': 50}\n",
      "Maximum accuracy achieved by sklearn model through grid searching: 93.45\n"
     ]
    }
   ],
   "source": [
    "# defining parameters for decision tree classifier \n",
    "parameters = {\"max_depth\": [3, 4, 5, 6], \"max_features\": [1, 2, 3, 4], \"min_samples_leaf\": [ 1, 2, 3, 4], \n",
    "              \"criterion\": [\"gini\", \"entropy\"], \"random_state\": [40, 50, 60, 70, 80]}\n",
    "\n",
    "# using a decision tree classifier, apply grid search\n",
    "model = DecisionTreeClassifier()        \n",
    "grid = GridSearchCV(model, parameters)    \n",
    "grid.fit(X_train, Y_train)\n",
    "\n",
    "# predict values for test set\n",
    "Y_pred = grid.predict(X_test)\n",
    "\n",
    "# counter for correct classification \n",
    "correct = 0\n",
    "\n",
    "# remove index so we can iterate through Y_test\n",
    "y_test_noIndex = Y_test.reset_index(drop = True)\n",
    "\n",
    "for i in range(np.size(Y_pred)):\n",
    "    #if correctly predicted\n",
    "    if y_test_noIndex[i] == Y_pred[i] :            \n",
    "        #increase correct count\n",
    "        correct += 1  \n",
    "\n",
    "# calculate accuracy             \n",
    "accuracy = (correct/np.size(Y_pred)) * 100\n",
    "\n",
    "print(\"Tuned Decision Tree Parameters: {}\".format(grid.best_params_))\n",
    "print(\"Maximum accuracy achieved by sklearn model through grid searching:\", np.round(accuracy, 2))"
   ]
  },
  {
   "cell_type": "markdown",
   "metadata": {},
   "source": [
    "#### <font color='blue'> Data Preprocessiong - for Random Forest Classifier </font>"
   ]
  },
  {
   "cell_type": "code",
   "execution_count": 52,
   "metadata": {},
   "outputs": [
    {
     "data": {
      "text/html": [
       "<div>\n",
       "<style scoped>\n",
       "    .dataframe tbody tr th:only-of-type {\n",
       "        vertical-align: middle;\n",
       "    }\n",
       "\n",
       "    .dataframe tbody tr th {\n",
       "        vertical-align: top;\n",
       "    }\n",
       "\n",
       "    .dataframe thead th {\n",
       "        text-align: right;\n",
       "    }\n",
       "</style>\n",
       "<table border=\"1\" class=\"dataframe\">\n",
       "  <thead>\n",
       "    <tr style=\"text-align: right;\">\n",
       "      <th></th>\n",
       "      <th>ID number</th>\n",
       "      <th>Clump Thickness</th>\n",
       "      <th>Uniformity of Cell Size</th>\n",
       "      <th>Uniformity of Cell Shape</th>\n",
       "      <th>Marginal Adhesion</th>\n",
       "      <th>Single Epithelial Cell Size</th>\n",
       "      <th>Bare Nuclei</th>\n",
       "      <th>Bland Chromatin</th>\n",
       "      <th>Normal Nucleoli</th>\n",
       "      <th>Mitoses</th>\n",
       "      <th>Class</th>\n",
       "    </tr>\n",
       "  </thead>\n",
       "  <tbody>\n",
       "    <tr>\n",
       "      <th>0</th>\n",
       "      <td>1000025.0</td>\n",
       "      <td>5.0</td>\n",
       "      <td>1.0</td>\n",
       "      <td>1.0</td>\n",
       "      <td>1.0</td>\n",
       "      <td>2.0</td>\n",
       "      <td>1.0</td>\n",
       "      <td>3.0</td>\n",
       "      <td>1.0</td>\n",
       "      <td>1.0</td>\n",
       "      <td>2.0</td>\n",
       "    </tr>\n",
       "    <tr>\n",
       "      <th>1</th>\n",
       "      <td>1002945.0</td>\n",
       "      <td>5.0</td>\n",
       "      <td>4.0</td>\n",
       "      <td>4.0</td>\n",
       "      <td>5.0</td>\n",
       "      <td>7.0</td>\n",
       "      <td>10.0</td>\n",
       "      <td>3.0</td>\n",
       "      <td>2.0</td>\n",
       "      <td>1.0</td>\n",
       "      <td>2.0</td>\n",
       "    </tr>\n",
       "  </tbody>\n",
       "</table>\n",
       "</div>"
      ],
      "text/plain": [
       "   ID number  Clump Thickness  Uniformity of Cell Size  \\\n",
       "0  1000025.0              5.0                      1.0   \n",
       "1  1002945.0              5.0                      4.0   \n",
       "\n",
       "   Uniformity of Cell Shape  Marginal Adhesion  Single Epithelial Cell Size  \\\n",
       "0                       1.0                1.0                          2.0   \n",
       "1                       4.0                5.0                          7.0   \n",
       "\n",
       "   Bare Nuclei  Bland Chromatin  Normal Nucleoli  Mitoses  Class  \n",
       "0          1.0              3.0              1.0      1.0    2.0  \n",
       "1         10.0              3.0              2.0      1.0    2.0  "
      ]
     },
     "execution_count": 52,
     "metadata": {},
     "output_type": "execute_result"
    }
   ],
   "source": [
    "df_numerical.head(2)"
   ]
  },
  {
   "cell_type": "code",
   "execution_count": 53,
   "metadata": {},
   "outputs": [],
   "source": [
    "# splitting the data to descriptive features and target feature \n",
    "x = df_numerical.iloc[:,0:10]  # descriptive features\n",
    "Y = df_numerical.iloc[:,-1]    # target feature (class)"
   ]
  },
  {
   "cell_type": "code",
   "execution_count": 54,
   "metadata": {},
   "outputs": [
    {
     "data": {
      "text/html": [
       "<div>\n",
       "<style scoped>\n",
       "    .dataframe tbody tr th:only-of-type {\n",
       "        vertical-align: middle;\n",
       "    }\n",
       "\n",
       "    .dataframe tbody tr th {\n",
       "        vertical-align: top;\n",
       "    }\n",
       "\n",
       "    .dataframe thead th {\n",
       "        text-align: right;\n",
       "    }\n",
       "</style>\n",
       "<table border=\"1\" class=\"dataframe\">\n",
       "  <thead>\n",
       "    <tr style=\"text-align: right;\">\n",
       "      <th></th>\n",
       "      <th>Uniformity of Cell Size</th>\n",
       "      <th>Uniformity of Cell Shape</th>\n",
       "      <th>Bare Nuclei</th>\n",
       "      <th>Bland Chromatin</th>\n",
       "      <th>Normal Nucleoli</th>\n",
       "    </tr>\n",
       "  </thead>\n",
       "  <tbody>\n",
       "    <tr>\n",
       "      <th>0</th>\n",
       "      <td>1.0</td>\n",
       "      <td>1.0</td>\n",
       "      <td>1.0</td>\n",
       "      <td>3.0</td>\n",
       "      <td>1.0</td>\n",
       "    </tr>\n",
       "    <tr>\n",
       "      <th>1</th>\n",
       "      <td>4.0</td>\n",
       "      <td>4.0</td>\n",
       "      <td>10.0</td>\n",
       "      <td>3.0</td>\n",
       "      <td>2.0</td>\n",
       "    </tr>\n",
       "    <tr>\n",
       "      <th>2</th>\n",
       "      <td>1.0</td>\n",
       "      <td>1.0</td>\n",
       "      <td>2.0</td>\n",
       "      <td>3.0</td>\n",
       "      <td>1.0</td>\n",
       "    </tr>\n",
       "  </tbody>\n",
       "</table>\n",
       "</div>"
      ],
      "text/plain": [
       "   Uniformity of Cell Size  Uniformity of Cell Shape  Bare Nuclei  \\\n",
       "0                      1.0                       1.0          1.0   \n",
       "1                      4.0                       4.0         10.0   \n",
       "2                      1.0                       1.0          2.0   \n",
       "\n",
       "   Bland Chromatin  Normal Nucleoli  \n",
       "0              3.0              1.0  \n",
       "1              3.0              2.0  \n",
       "2              3.0              1.0  "
      ]
     },
     "execution_count": 54,
     "metadata": {},
     "output_type": "execute_result"
    }
   ],
   "source": [
    "# Selected features Bare Nuclei, Normal Nucleoli, Uniformity of Cell Size, Uniformity of Cell Shape, Bland Chromatin\n",
    "# dropping the 'ID number', 'Mitoses', 'Marginal Adhesion' columns 'Single Epithelial Cell Size', 'Mitoses'\n",
    "X = x.drop(['ID number', 'Clump Thickness','Marginal Adhesion', 'Single Epithelial Cell Size', 'Mitoses'], axis=1)\n",
    "X.head(3)"
   ]
  },
  {
   "cell_type": "code",
   "execution_count": 55,
   "metadata": {},
   "outputs": [],
   "source": [
    "# kfold cross validation\n",
    "from sklearn.model_selection import KFold\n",
    "\n",
    "kf = KFold(n_splits=5, random_state=1, shuffle=True)\n",
    "kfold = kf.split(X, Y)"
   ]
  },
  {
   "cell_type": "code",
   "execution_count": 56,
   "metadata": {},
   "outputs": [],
   "source": [
    "from sklearn.ensemble import RandomForestClassifier\n",
    "RF_clf = RandomForestClassifier(max_depth=2, random_state=0)"
   ]
  },
  {
   "cell_type": "code",
   "execution_count": 57,
   "metadata": {
    "scrolled": true
   },
   "outputs": [
    {
     "name": "stdout",
     "output_type": "stream",
     "text": [
      "Fold:  1, Accuracy: 0.9568\n",
      "Fold:  2, Accuracy: 0.9565\n",
      "Fold:  3, Accuracy: 0.9638\n",
      "Fold:  4, Accuracy: 0.9855\n",
      "Fold:  5, Accuracy: 0.9638\n",
      "\n",
      "\n",
      "RF Cross-Validation accuracy: mean: 0.9653, std: 0.0106 \n"
     ]
    }
   ],
   "source": [
    "# evaluate the scores of each fold\n",
    "scores = []\n",
    "\n",
    "for k, (train, test) in enumerate(kfold):\n",
    "    RF_clf.fit(X.iloc[train, :], Y.iloc[train])\n",
    "    score = RF_clf.score(X.iloc[test, :], Y.iloc[test])\n",
    "    scores.append(score)\n",
    "    print('Fold: %2d, Accuracy: %.4f' % (k+1, score))\n",
    "print('\\n\\nRF Cross-Validation accuracy: mean: %.4f, std: %.4f ' %(np.mean(scores), np.std(scores)))"
   ]
  },
  {
   "cell_type": "markdown",
   "metadata": {},
   "source": [
    "#### <font color='blue'> Applying Neural Networks </font>"
   ]
  },
  {
   "cell_type": "code",
   "execution_count": 58,
   "metadata": {
    "executionInfo": {
     "elapsed": 2926,
     "status": "ok",
     "timestamp": 1669435252570,
     "user": {
      "displayName": "Duc Pham Viet",
      "userId": "16134707458475919078"
     },
     "user_tz": 300
    },
    "id": "PHDlP3LGFLSL"
   },
   "outputs": [],
   "source": [
    "import tensorflow as tf \n",
    "from tensorflow import keras"
   ]
  },
  {
   "cell_type": "code",
   "execution_count": 59,
   "metadata": {
    "executionInfo": {
     "elapsed": 87,
     "status": "ok",
     "timestamp": 1669435253304,
     "user": {
      "displayName": "Duc Pham Viet",
      "userId": "16134707458475919078"
     },
     "user_tz": 300
    },
    "id": "1kCAw3hwFLSL"
   },
   "outputs": [],
   "source": [
    "# splitting the data to descriptive features and target feature \n",
    "x = df_numerical.iloc[:,0:10]  # descriptive features\n",
    "Y = df_numerical.iloc[:,-1]    # target feature (class)"
   ]
  },
  {
   "cell_type": "code",
   "execution_count": 60,
   "metadata": {
    "executionInfo": {
     "elapsed": 81,
     "status": "ok",
     "timestamp": 1669435255119,
     "user": {
      "displayName": "Duc Pham Viet",
      "userId": "16134707458475919078"
     },
     "user_tz": 300
    },
    "id": "xls5Mq4KFLSM"
   },
   "outputs": [
    {
     "data": {
      "text/html": [
       "<div>\n",
       "<style scoped>\n",
       "    .dataframe tbody tr th:only-of-type {\n",
       "        vertical-align: middle;\n",
       "    }\n",
       "\n",
       "    .dataframe tbody tr th {\n",
       "        vertical-align: top;\n",
       "    }\n",
       "\n",
       "    .dataframe thead th {\n",
       "        text-align: right;\n",
       "    }\n",
       "</style>\n",
       "<table border=\"1\" class=\"dataframe\">\n",
       "  <thead>\n",
       "    <tr style=\"text-align: right;\">\n",
       "      <th></th>\n",
       "      <th>Uniformity of Cell Size</th>\n",
       "      <th>Uniformity of Cell Shape</th>\n",
       "      <th>Bare Nuclei</th>\n",
       "      <th>Bland Chromatin</th>\n",
       "      <th>Normal Nucleoli</th>\n",
       "    </tr>\n",
       "  </thead>\n",
       "  <tbody>\n",
       "    <tr>\n",
       "      <th>0</th>\n",
       "      <td>1.0</td>\n",
       "      <td>1.0</td>\n",
       "      <td>1.0</td>\n",
       "      <td>3.0</td>\n",
       "      <td>1.0</td>\n",
       "    </tr>\n",
       "    <tr>\n",
       "      <th>1</th>\n",
       "      <td>4.0</td>\n",
       "      <td>4.0</td>\n",
       "      <td>10.0</td>\n",
       "      <td>3.0</td>\n",
       "      <td>2.0</td>\n",
       "    </tr>\n",
       "    <tr>\n",
       "      <th>2</th>\n",
       "      <td>1.0</td>\n",
       "      <td>1.0</td>\n",
       "      <td>2.0</td>\n",
       "      <td>3.0</td>\n",
       "      <td>1.0</td>\n",
       "    </tr>\n",
       "  </tbody>\n",
       "</table>\n",
       "</div>"
      ],
      "text/plain": [
       "   Uniformity of Cell Size  Uniformity of Cell Shape  Bare Nuclei  \\\n",
       "0                      1.0                       1.0          1.0   \n",
       "1                      4.0                       4.0         10.0   \n",
       "2                      1.0                       1.0          2.0   \n",
       "\n",
       "   Bland Chromatin  Normal Nucleoli  \n",
       "0              3.0              1.0  \n",
       "1              3.0              2.0  \n",
       "2              3.0              1.0  "
      ]
     },
     "execution_count": 60,
     "metadata": {},
     "output_type": "execute_result"
    }
   ],
   "source": [
    "# Selected features Bare Nuclei, Normal Nucleoli, Uniformity of Cell Size, Uniformity of Cell Shape, Bland Chromatin\n",
    "# dropping the 'ID number', 'Mitoses', 'Marginal Adhesion' columns 'Single Epithelial Cell Size', 'Mitoses'\n",
    "X = x.drop(['ID number', 'Clump Thickness','Marginal Adhesion', 'Single Epithelial Cell Size', 'Mitoses'], axis=1)\n",
    "X.head(3)"
   ]
  },
  {
   "cell_type": "code",
   "execution_count": 61,
   "metadata": {
    "executionInfo": {
     "elapsed": 113,
     "status": "ok",
     "timestamp": 1669435856847,
     "user": {
      "displayName": "Duc Pham Viet",
      "userId": "16134707458475919078"
     },
     "user_tz": 300
    },
    "id": "X2Ya1a8aIDA8"
   },
   "outputs": [],
   "source": [
    "Y = Y.replace(2.0, 0).replace(4.0,1)"
   ]
  },
  {
   "cell_type": "code",
   "execution_count": 62,
   "metadata": {
    "executionInfo": {
     "elapsed": 80,
     "status": "ok",
     "timestamp": 1669435858890,
     "user": {
      "displayName": "Duc Pham Viet",
      "userId": "16134707458475919078"
     },
     "user_tz": 300
    },
    "id": "tS0UdpN8FLSM"
   },
   "outputs": [],
   "source": [
    "from sklearn.model_selection import train_test_split\n",
    "X_train, X_test, Y_train, Y_test = train_test_split(X, Y,  \n",
    "                                                    test_size=0.33, random_state=88)"
   ]
  },
  {
   "cell_type": "code",
   "execution_count": 63,
   "metadata": {
    "colab": {
     "base_uri": "https://localhost:8080/"
    },
    "executionInfo": {
     "elapsed": 114,
     "status": "ok",
     "timestamp": 1669435860314,
     "user": {
      "displayName": "Duc Pham Viet",
      "userId": "16134707458475919078"
     },
     "user_tz": 300
    },
    "id": "dmFQsxFjGUD8",
    "outputId": "6494d629-9c71-4693-a069-dbdaa6f3fdaf"
   },
   "outputs": [
    {
     "data": {
      "text/plain": [
       "Index(['Uniformity of Cell Size', 'Uniformity of Cell Shape', 'Bare Nuclei',\n",
       "       'Bland Chromatin', 'Normal Nucleoli'],\n",
       "      dtype='object')"
      ]
     },
     "execution_count": 63,
     "metadata": {},
     "output_type": "execute_result"
    }
   ],
   "source": [
    "X_train.columns"
   ]
  },
  {
   "cell_type": "code",
   "execution_count": 64,
   "metadata": {
    "colab": {
     "base_uri": "https://localhost:8080/"
    },
    "executionInfo": {
     "elapsed": 136,
     "status": "ok",
     "timestamp": 1669435861553,
     "user": {
      "displayName": "Duc Pham Viet",
      "userId": "16134707458475919078"
     },
     "user_tz": 300
    },
    "id": "A1621GT0FLSM",
    "outputId": "62e68e34-0d76-44e3-e55b-af5037be6ef6"
   },
   "outputs": [
    {
     "name": "stdout",
     "output_type": "stream",
     "text": [
      "Model: \"sequential\"\n",
      "_________________________________________________________________\n",
      " Layer (type)                Output Shape              Param #   \n",
      "=================================================================\n",
      " dense (Dense)               (None, 2)                 12        \n",
      "                                                                 \n",
      " dense_1 (Dense)             (None, 1)                 3         \n",
      "                                                                 \n",
      "=================================================================\n",
      "Total params: 15\n",
      "Trainable params: 15\n",
      "Non-trainable params: 0\n",
      "_________________________________________________________________\n"
     ]
    }
   ],
   "source": [
    "# Define the network model and its arguments. \n",
    "# Set the number of neurons/nodes for each layer:\n",
    "from tensorflow.keras.models import Sequential\n",
    "from tensorflow.keras.layers import Dense, Activation\n",
    "\n",
    "model = Sequential()\n",
    "model.add(Dense(2, input_shape=(5,),activation=\"relu\"))\n",
    "model.add(Dense(1, input_shape=(2,),activation=\"sigmoid\"))\n",
    "\n",
    "# Compile the model and calculate its accuracy:\n",
    "model.compile(loss='binary_crossentropy', optimizer='sgd', metrics=[tf.keras.metrics.BinaryAccuracy()]) \n",
    "\n",
    "# Print a summary of the Keras model:\n",
    "model.summary()"
   ]
  },
  {
   "cell_type": "code",
   "execution_count": 65,
   "metadata": {
    "colab": {
     "base_uri": "https://localhost:8080/"
    },
    "executionInfo": {
     "elapsed": 6423,
     "status": "ok",
     "timestamp": 1669435869405,
     "user": {
      "displayName": "Duc Pham Viet",
      "userId": "16134707458475919078"
     },
     "user_tz": 300
    },
    "id": "NtZauEuGFLSM",
    "outputId": "f9be4790-e7ca-45cb-de24-78c9339b760c"
   },
   "outputs": [
    {
     "name": "stdout",
     "output_type": "stream",
     "text": [
      "Epoch 1/50\n",
      "47/47 [==============================] - 1s 2ms/step - loss: 0.8331 - binary_accuracy: 0.5823\n",
      "Epoch 2/50\n",
      "47/47 [==============================] - 0s 2ms/step - loss: 0.6230 - binary_accuracy: 0.8312\n",
      "Epoch 3/50\n",
      "47/47 [==============================] - 0s 2ms/step - loss: 0.5725 - binary_accuracy: 0.8463\n",
      "Epoch 4/50\n",
      "47/47 [==============================] - 0s 2ms/step - loss: 0.5393 - binary_accuracy: 0.8528\n",
      "Epoch 5/50\n",
      "47/47 [==============================] - 0s 2ms/step - loss: 0.5102 - binary_accuracy: 0.8766\n",
      "Epoch 6/50\n",
      "47/47 [==============================] - 0s 3ms/step - loss: 0.4840 - binary_accuracy: 0.8788\n",
      "Epoch 7/50\n",
      "47/47 [==============================] - 0s 3ms/step - loss: 0.4612 - binary_accuracy: 0.9026\n",
      "Epoch 8/50\n",
      "47/47 [==============================] - 0s 3ms/step - loss: 0.4411 - binary_accuracy: 0.9113\n",
      "Epoch 9/50\n",
      "47/47 [==============================] - 0s 3ms/step - loss: 0.4230 - binary_accuracy: 0.9199\n",
      "Epoch 10/50\n",
      "47/47 [==============================] - 0s 3ms/step - loss: 0.4060 - binary_accuracy: 0.9329\n",
      "Epoch 11/50\n",
      "47/47 [==============================] - 0s 2ms/step - loss: 0.3909 - binary_accuracy: 0.9329\n",
      "Epoch 12/50\n",
      "47/47 [==============================] - 0s 3ms/step - loss: 0.3767 - binary_accuracy: 0.9372\n",
      "Epoch 13/50\n",
      "47/47 [==============================] - 0s 3ms/step - loss: 0.3637 - binary_accuracy: 0.9394\n",
      "Epoch 14/50\n",
      "47/47 [==============================] - 0s 2ms/step - loss: 0.3517 - binary_accuracy: 0.9416\n",
      "Epoch 15/50\n",
      "47/47 [==============================] - 0s 2ms/step - loss: 0.3410 - binary_accuracy: 0.9372\n",
      "Epoch 16/50\n",
      "47/47 [==============================] - 0s 3ms/step - loss: 0.3306 - binary_accuracy: 0.9416\n",
      "Epoch 17/50\n",
      "47/47 [==============================] - 0s 2ms/step - loss: 0.3212 - binary_accuracy: 0.9394\n",
      "Epoch 18/50\n",
      "47/47 [==============================] - 0s 3ms/step - loss: 0.3123 - binary_accuracy: 0.9416\n",
      "Epoch 19/50\n",
      "47/47 [==============================] - 0s 3ms/step - loss: 0.3042 - binary_accuracy: 0.9416\n",
      "Epoch 20/50\n",
      "47/47 [==============================] - 0s 3ms/step - loss: 0.2961 - binary_accuracy: 0.9437\n",
      "Epoch 21/50\n",
      "47/47 [==============================] - 0s 3ms/step - loss: 0.2893 - binary_accuracy: 0.9394\n",
      "Epoch 22/50\n",
      "47/47 [==============================] - 0s 2ms/step - loss: 0.2818 - binary_accuracy: 0.9372\n",
      "Epoch 23/50\n",
      "47/47 [==============================] - 0s 3ms/step - loss: 0.2767 - binary_accuracy: 0.9524\n",
      "Epoch 24/50\n",
      "47/47 [==============================] - 0s 3ms/step - loss: 0.2699 - binary_accuracy: 0.9545\n",
      "Epoch 25/50\n",
      "47/47 [==============================] - 0s 3ms/step - loss: 0.2637 - binary_accuracy: 0.9502\n",
      "Epoch 26/50\n",
      "47/47 [==============================] - 0s 3ms/step - loss: 0.2589 - binary_accuracy: 0.9502\n",
      "Epoch 27/50\n",
      "47/47 [==============================] - 0s 2ms/step - loss: 0.2539 - binary_accuracy: 0.9524\n",
      "Epoch 28/50\n",
      "47/47 [==============================] - 0s 3ms/step - loss: 0.2489 - binary_accuracy: 0.9524\n",
      "Epoch 29/50\n",
      "47/47 [==============================] - 0s 3ms/step - loss: 0.2444 - binary_accuracy: 0.9502\n",
      "Epoch 30/50\n",
      "47/47 [==============================] - 0s 3ms/step - loss: 0.2406 - binary_accuracy: 0.9524\n",
      "Epoch 31/50\n",
      "47/47 [==============================] - 0s 2ms/step - loss: 0.2365 - binary_accuracy: 0.9481\n",
      "Epoch 32/50\n",
      "47/47 [==============================] - 0s 3ms/step - loss: 0.2325 - binary_accuracy: 0.9545\n",
      "Epoch 33/50\n",
      "47/47 [==============================] - 0s 3ms/step - loss: 0.2292 - binary_accuracy: 0.9502\n",
      "Epoch 34/50\n",
      "47/47 [==============================] - 0s 2ms/step - loss: 0.2253 - binary_accuracy: 0.9502\n",
      "Epoch 35/50\n",
      "47/47 [==============================] - 0s 2ms/step - loss: 0.2231 - binary_accuracy: 0.9459\n",
      "Epoch 36/50\n",
      "47/47 [==============================] - 0s 3ms/step - loss: 0.2195 - binary_accuracy: 0.9502\n",
      "Epoch 37/50\n",
      "47/47 [==============================] - 0s 3ms/step - loss: 0.2159 - binary_accuracy: 0.9502\n",
      "Epoch 38/50\n",
      "47/47 [==============================] - 0s 3ms/step - loss: 0.2138 - binary_accuracy: 0.9524\n",
      "Epoch 39/50\n",
      "47/47 [==============================] - 0s 3ms/step - loss: 0.2114 - binary_accuracy: 0.9481\n",
      "Epoch 40/50\n",
      "47/47 [==============================] - 0s 3ms/step - loss: 0.2095 - binary_accuracy: 0.9502\n",
      "Epoch 41/50\n",
      "47/47 [==============================] - 0s 3ms/step - loss: 0.2065 - binary_accuracy: 0.9502\n",
      "Epoch 42/50\n",
      "47/47 [==============================] - 0s 3ms/step - loss: 0.2041 - binary_accuracy: 0.9481\n",
      "Epoch 43/50\n",
      "47/47 [==============================] - 0s 3ms/step - loss: 0.2018 - binary_accuracy: 0.9459\n",
      "Epoch 44/50\n",
      "47/47 [==============================] - 0s 3ms/step - loss: 0.2001 - binary_accuracy: 0.9459\n",
      "Epoch 45/50\n",
      "47/47 [==============================] - 0s 3ms/step - loss: 0.1979 - binary_accuracy: 0.9459\n",
      "Epoch 46/50\n",
      "47/47 [==============================] - 0s 3ms/step - loss: 0.1957 - binary_accuracy: 0.9481\n",
      "Epoch 47/50\n",
      "47/47 [==============================] - 0s 3ms/step - loss: 0.1944 - binary_accuracy: 0.9481\n",
      "Epoch 48/50\n",
      "47/47 [==============================] - 0s 3ms/step - loss: 0.1919 - binary_accuracy: 0.9502\n",
      "Epoch 49/50\n",
      "47/47 [==============================] - 0s 3ms/step - loss: 0.1906 - binary_accuracy: 0.9502\n",
      "Epoch 50/50\n",
      "47/47 [==============================] - 0s 3ms/step - loss: 0.1887 - binary_accuracy: 0.9524\n"
     ]
    },
    {
     "data": {
      "text/plain": [
       "<keras.callbacks.History at 0x272e687c940>"
      ]
     },
     "execution_count": 65,
     "metadata": {},
     "output_type": "execute_result"
    }
   ],
   "source": [
    "# fit the keras model on the dataset\n",
    "model.fit(X_train, Y_train, epochs=50, batch_size=10)"
   ]
  },
  {
   "cell_type": "code",
   "execution_count": 66,
   "metadata": {
    "colab": {
     "base_uri": "https://localhost:8080/"
    },
    "executionInfo": {
     "elapsed": 351,
     "status": "ok",
     "timestamp": 1669436095962,
     "user": {
      "displayName": "Duc Pham Viet",
      "userId": "16134707458475919078"
     },
     "user_tz": 300
    },
    "id": "pB0X0SnwFLSN",
    "outputId": "295a804a-9e68-41f0-8242-eec9c3a9e1a6"
   },
   "outputs": [
    {
     "name": "stdout",
     "output_type": "stream",
     "text": [
      "8/8 [==============================] - 0s 2ms/step - loss: 0.1870 - binary_accuracy: 0.9389\n"
     ]
    },
    {
     "data": {
      "text/plain": [
       "[0.18704986572265625, 0.9388646483421326]"
      ]
     },
     "execution_count": 66,
     "metadata": {},
     "output_type": "execute_result"
    }
   ],
   "source": [
    "# acc= model.accuracy_score(y_train[0], y_pred[0])\n",
    "accuracy = model.evaluate(X_test, Y_test)\n",
    "accuracy"
   ]
  },
  {
   "cell_type": "code",
   "execution_count": 67,
   "metadata": {
    "colab": {
     "base_uri": "https://localhost:8080/"
    },
    "executionInfo": {
     "elapsed": 183,
     "status": "ok",
     "timestamp": 1669436104780,
     "user": {
      "displayName": "Duc Pham Viet",
      "userId": "16134707458475919078"
     },
     "user_tz": 300
    },
    "id": "fSNdNAXdFLSN",
    "outputId": "52106e1c-91d2-4ce8-bf47-d7dba087c4eb"
   },
   "outputs": [
    {
     "name": "stdout",
     "output_type": "stream",
     "text": [
      "8/8 [==============================] - 0s 3ms/step - loss: 0.1870 - binary_accuracy: 0.9389\n",
      "Accuracy: 93.89\n"
     ]
    }
   ],
   "source": [
    "# evaluate the keras model\n",
    "_, accuracy = model.evaluate(X_test,  Y_test)\n",
    "print('Accuracy: %.2f' % (accuracy*100))"
   ]
  }
 ],
 "metadata": {
  "colab": {
   "provenance": []
  },
  "kernelspec": {
   "display_name": "Python 3 (ipykernel)",
   "language": "python",
   "name": "python3"
  },
  "language_info": {
   "codemirror_mode": {
    "name": "ipython",
    "version": 3
   },
   "file_extension": ".py",
   "mimetype": "text/x-python",
   "name": "python",
   "nbconvert_exporter": "python",
   "pygments_lexer": "ipython3",
   "version": "3.9.7"
  }
 },
 "nbformat": 4,
 "nbformat_minor": 1
}
